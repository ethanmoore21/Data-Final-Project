{
 "cells": [
  {
   "cell_type": "markdown",
   "metadata": {},
   "source": [
    "**We did some analyses before narrowing down to a solid research question and wanted to include them even though they are not related to our topic.**"
   ]
  },
  {
   "cell_type": "code",
   "execution_count": 1,
   "metadata": {},
   "outputs": [],
   "source": [
    "#imports\n",
    "import pandas as pd\n",
    "import numpy as np\n",
    "from collections import Counter"
   ]
  },
  {
   "cell_type": "markdown",
   "metadata": {},
   "source": [
    "**This is a K-Nearest Neighbors Classifier model to predict which type of article (section name) each article is given its headline, lead paragraph, and other variables.**"
   ]
  },
  {
   "cell_type": "code",
   "execution_count": 2,
   "metadata": {},
   "outputs": [],
   "source": [
    "archive = pd.read_csv(\"archive.csv\")"
   ]
  },
  {
   "cell_type": "code",
   "execution_count": 3,
   "metadata": {},
   "outputs": [],
   "source": [
    "archive_df = archive[[\"byline.original\", \"document_type\", \"headline.main\", \"lead_paragraph\", \"pub_date_str\",\n",
    "                     \"word_count\", \"section_name\"]].dropna()\n",
    "\n",
    "archive_df = archive_df[0:1000]\n",
    "\n",
    "words = (\n",
    "    archive_df[\"lead_paragraph\"].\n",
    "    str.lower().\n",
    "    str.replace(\"<br />\", \" \").\n",
    "    str.replace(\"[^\\w\\s]\", \"\").\n",
    "    str.split()\n",
    ").dropna()\n",
    "\n",
    "bag_of_words = words.apply(Counter)\n",
    "\n",
    "tf = pd.DataFrame(list(bag_of_words))\n",
    "tf.fillna(0, inplace = True)\n",
    "\n",
    "total = pd.DataFrame()\n",
    "for i in range(len(archive_df)-1):\n",
    "    a = tf[tf.index == i].sum(axis=0).sort_values(ascending=False)[:50] #only takes 50 most common words from each article\n",
    "    total = total.append(a, ignore_index = True)"
   ]
  },
  {
   "cell_type": "code",
   "execution_count": 4,
   "metadata": {},
   "outputs": [
    {
     "name": "stdout",
     "output_type": "stream",
     "text": [
      "999\n"
     ]
    },
    {
     "data": {
      "text/html": [
       "<div>\n",
       "<style scoped>\n",
       "    .dataframe tbody tr th:only-of-type {\n",
       "        vertical-align: middle;\n",
       "    }\n",
       "\n",
       "    .dataframe tbody tr th {\n",
       "        vertical-align: top;\n",
       "    }\n",
       "\n",
       "    .dataframe thead th {\n",
       "        text-align: right;\n",
       "    }\n",
       "</style>\n",
       "<table border=\"1\" class=\"dataframe\">\n",
       "  <thead>\n",
       "    <tr style=\"text-align: right;\">\n",
       "      <th></th>\n",
       "      <th>1</th>\n",
       "      <th>1970s</th>\n",
       "      <th>and</th>\n",
       "      <th>combinations</th>\n",
       "      <th>extra</th>\n",
       "      <th>extraordinarily</th>\n",
       "      <th>factor</th>\n",
       "      <th>fell</th>\n",
       "      <th>fellow</th>\n",
       "      <th>female</th>\n",
       "      <th>...</th>\n",
       "      <th>16</th>\n",
       "      <th>attacks</th>\n",
       "      <th>botox</th>\n",
       "      <th>headaches</th>\n",
       "      <th>per</th>\n",
       "      <th>placebos</th>\n",
       "      <th>resulted</th>\n",
       "      <th>benefits</th>\n",
       "      <th>substitutes</th>\n",
       "      <th>sugar</th>\n",
       "    </tr>\n",
       "  </thead>\n",
       "  <tbody>\n",
       "    <tr>\n",
       "      <th>0</th>\n",
       "      <td>1.0</td>\n",
       "      <td>1.0</td>\n",
       "      <td>1.0</td>\n",
       "      <td>1.0</td>\n",
       "      <td>0.0</td>\n",
       "      <td>0.0</td>\n",
       "      <td>0.0</td>\n",
       "      <td>0.0</td>\n",
       "      <td>0.0</td>\n",
       "      <td>0.0</td>\n",
       "      <td>...</td>\n",
       "      <td>0.0</td>\n",
       "      <td>0.0</td>\n",
       "      <td>0.0</td>\n",
       "      <td>0.0</td>\n",
       "      <td>0.0</td>\n",
       "      <td>0.0</td>\n",
       "      <td>0.0</td>\n",
       "      <td>0.0</td>\n",
       "      <td>0.0</td>\n",
       "      <td>0.0</td>\n",
       "    </tr>\n",
       "    <tr>\n",
       "      <th>1</th>\n",
       "      <td>0.0</td>\n",
       "      <td>0.0</td>\n",
       "      <td>1.0</td>\n",
       "      <td>0.0</td>\n",
       "      <td>0.0</td>\n",
       "      <td>0.0</td>\n",
       "      <td>0.0</td>\n",
       "      <td>0.0</td>\n",
       "      <td>0.0</td>\n",
       "      <td>0.0</td>\n",
       "      <td>...</td>\n",
       "      <td>0.0</td>\n",
       "      <td>0.0</td>\n",
       "      <td>0.0</td>\n",
       "      <td>0.0</td>\n",
       "      <td>0.0</td>\n",
       "      <td>0.0</td>\n",
       "      <td>0.0</td>\n",
       "      <td>0.0</td>\n",
       "      <td>0.0</td>\n",
       "      <td>0.0</td>\n",
       "    </tr>\n",
       "    <tr>\n",
       "      <th>2</th>\n",
       "      <td>0.0</td>\n",
       "      <td>0.0</td>\n",
       "      <td>2.0</td>\n",
       "      <td>0.0</td>\n",
       "      <td>0.0</td>\n",
       "      <td>0.0</td>\n",
       "      <td>0.0</td>\n",
       "      <td>0.0</td>\n",
       "      <td>0.0</td>\n",
       "      <td>0.0</td>\n",
       "      <td>...</td>\n",
       "      <td>0.0</td>\n",
       "      <td>0.0</td>\n",
       "      <td>0.0</td>\n",
       "      <td>0.0</td>\n",
       "      <td>0.0</td>\n",
       "      <td>0.0</td>\n",
       "      <td>0.0</td>\n",
       "      <td>0.0</td>\n",
       "      <td>0.0</td>\n",
       "      <td>0.0</td>\n",
       "    </tr>\n",
       "    <tr>\n",
       "      <th>3</th>\n",
       "      <td>0.0</td>\n",
       "      <td>0.0</td>\n",
       "      <td>1.0</td>\n",
       "      <td>0.0</td>\n",
       "      <td>0.0</td>\n",
       "      <td>0.0</td>\n",
       "      <td>0.0</td>\n",
       "      <td>0.0</td>\n",
       "      <td>0.0</td>\n",
       "      <td>0.0</td>\n",
       "      <td>...</td>\n",
       "      <td>0.0</td>\n",
       "      <td>0.0</td>\n",
       "      <td>0.0</td>\n",
       "      <td>0.0</td>\n",
       "      <td>0.0</td>\n",
       "      <td>0.0</td>\n",
       "      <td>0.0</td>\n",
       "      <td>0.0</td>\n",
       "      <td>0.0</td>\n",
       "      <td>0.0</td>\n",
       "    </tr>\n",
       "    <tr>\n",
       "      <th>4</th>\n",
       "      <td>0.0</td>\n",
       "      <td>0.0</td>\n",
       "      <td>0.0</td>\n",
       "      <td>0.0</td>\n",
       "      <td>0.0</td>\n",
       "      <td>0.0</td>\n",
       "      <td>0.0</td>\n",
       "      <td>0.0</td>\n",
       "      <td>0.0</td>\n",
       "      <td>0.0</td>\n",
       "      <td>...</td>\n",
       "      <td>0.0</td>\n",
       "      <td>0.0</td>\n",
       "      <td>0.0</td>\n",
       "      <td>0.0</td>\n",
       "      <td>0.0</td>\n",
       "      <td>0.0</td>\n",
       "      <td>0.0</td>\n",
       "      <td>0.0</td>\n",
       "      <td>0.0</td>\n",
       "      <td>0.0</td>\n",
       "    </tr>\n",
       "  </tbody>\n",
       "</table>\n",
       "<p>5 rows × 4277 columns</p>\n",
       "</div>"
      ],
      "text/plain": [
       "     1  1970s  and  combinations  extra  extraordinarily  factor  fell  \\\n",
       "0  1.0    1.0  1.0           1.0    0.0              0.0     0.0   0.0   \n",
       "1  0.0    0.0  1.0           0.0    0.0              0.0     0.0   0.0   \n",
       "2  0.0    0.0  2.0           0.0    0.0              0.0     0.0   0.0   \n",
       "3  0.0    0.0  1.0           0.0    0.0              0.0     0.0   0.0   \n",
       "4  0.0    0.0  0.0           0.0    0.0              0.0     0.0   0.0   \n",
       "\n",
       "   fellow  female  ...     16  attacks  botox  headaches  per  placebos  \\\n",
       "0     0.0     0.0  ...    0.0      0.0    0.0        0.0  0.0       0.0   \n",
       "1     0.0     0.0  ...    0.0      0.0    0.0        0.0  0.0       0.0   \n",
       "2     0.0     0.0  ...    0.0      0.0    0.0        0.0  0.0       0.0   \n",
       "3     0.0     0.0  ...    0.0      0.0    0.0        0.0  0.0       0.0   \n",
       "4     0.0     0.0  ...    0.0      0.0    0.0        0.0  0.0       0.0   \n",
       "\n",
       "   resulted  benefits  substitutes  sugar  \n",
       "0       0.0       0.0          0.0    0.0  \n",
       "1       0.0       0.0          0.0    0.0  \n",
       "2       0.0       0.0          0.0    0.0  \n",
       "3       0.0       0.0          0.0    0.0  \n",
       "4       0.0       0.0          0.0    0.0  \n",
       "\n",
       "[5 rows x 4277 columns]"
      ]
     },
     "execution_count": 4,
     "metadata": {},
     "output_type": "execute_result"
    }
   ],
   "source": [
    "total = total.fillna(0)\n",
    "print(len(total))\n",
    "total.head()"
   ]
  },
  {
   "cell_type": "code",
   "execution_count": 5,
   "metadata": {},
   "outputs": [
    {
     "data": {
      "text/plain": [
       "[]"
      ]
     },
     "execution_count": 5,
     "metadata": {},
     "output_type": "execute_result"
    }
   ],
   "source": [
    "total.columns[total.isna().any()].tolist()\n",
    "#no values are NA here"
   ]
  },
  {
   "cell_type": "code",
   "execution_count": 6,
   "metadata": {},
   "outputs": [
    {
     "data": {
      "text/html": [
       "<div>\n",
       "<style scoped>\n",
       "    .dataframe tbody tr th:only-of-type {\n",
       "        vertical-align: middle;\n",
       "    }\n",
       "\n",
       "    .dataframe tbody tr th {\n",
       "        vertical-align: top;\n",
       "    }\n",
       "\n",
       "    .dataframe thead th {\n",
       "        text-align: right;\n",
       "    }\n",
       "</style>\n",
       "<table border=\"1\" class=\"dataframe\">\n",
       "  <thead>\n",
       "    <tr style=\"text-align: right;\">\n",
       "      <th></th>\n",
       "      <th>1</th>\n",
       "      <th>1970s</th>\n",
       "      <th>and</th>\n",
       "      <th>combinations</th>\n",
       "      <th>extra</th>\n",
       "      <th>extraordinarily</th>\n",
       "      <th>factor</th>\n",
       "      <th>fell</th>\n",
       "      <th>fellow</th>\n",
       "      <th>female</th>\n",
       "      <th>...</th>\n",
       "      <th>16</th>\n",
       "      <th>attacks</th>\n",
       "      <th>botox</th>\n",
       "      <th>headaches</th>\n",
       "      <th>per</th>\n",
       "      <th>placebos</th>\n",
       "      <th>resulted</th>\n",
       "      <th>benefits</th>\n",
       "      <th>substitutes</th>\n",
       "      <th>section_name</th>\n",
       "    </tr>\n",
       "  </thead>\n",
       "  <tbody>\n",
       "    <tr>\n",
       "      <th>0</th>\n",
       "      <td>4.50886</td>\n",
       "      <td>5.297317</td>\n",
       "      <td>0.762569</td>\n",
       "      <td>6.213608</td>\n",
       "      <td>0.0</td>\n",
       "      <td>0.0</td>\n",
       "      <td>0.0</td>\n",
       "      <td>0.0</td>\n",
       "      <td>0.0</td>\n",
       "      <td>0.0</td>\n",
       "      <td>...</td>\n",
       "      <td>0.0</td>\n",
       "      <td>0.0</td>\n",
       "      <td>0.0</td>\n",
       "      <td>0.0</td>\n",
       "      <td>0.0</td>\n",
       "      <td>0.0</td>\n",
       "      <td>0.0</td>\n",
       "      <td>0.0</td>\n",
       "      <td>0.0</td>\n",
       "      <td>Obituaries</td>\n",
       "    </tr>\n",
       "    <tr>\n",
       "      <th>1</th>\n",
       "      <td>0.00000</td>\n",
       "      <td>0.000000</td>\n",
       "      <td>0.762569</td>\n",
       "      <td>0.000000</td>\n",
       "      <td>0.0</td>\n",
       "      <td>0.0</td>\n",
       "      <td>0.0</td>\n",
       "      <td>0.0</td>\n",
       "      <td>0.0</td>\n",
       "      <td>0.0</td>\n",
       "      <td>...</td>\n",
       "      <td>0.0</td>\n",
       "      <td>0.0</td>\n",
       "      <td>0.0</td>\n",
       "      <td>0.0</td>\n",
       "      <td>0.0</td>\n",
       "      <td>0.0</td>\n",
       "      <td>0.0</td>\n",
       "      <td>0.0</td>\n",
       "      <td>0.0</td>\n",
       "      <td>World</td>\n",
       "    </tr>\n",
       "    <tr>\n",
       "      <th>2</th>\n",
       "      <td>0.00000</td>\n",
       "      <td>0.000000</td>\n",
       "      <td>1.525138</td>\n",
       "      <td>0.000000</td>\n",
       "      <td>0.0</td>\n",
       "      <td>0.0</td>\n",
       "      <td>0.0</td>\n",
       "      <td>0.0</td>\n",
       "      <td>0.0</td>\n",
       "      <td>0.0</td>\n",
       "      <td>...</td>\n",
       "      <td>0.0</td>\n",
       "      <td>0.0</td>\n",
       "      <td>0.0</td>\n",
       "      <td>0.0</td>\n",
       "      <td>0.0</td>\n",
       "      <td>0.0</td>\n",
       "      <td>0.0</td>\n",
       "      <td>0.0</td>\n",
       "      <td>0.0</td>\n",
       "      <td>U.S.</td>\n",
       "    </tr>\n",
       "    <tr>\n",
       "      <th>3</th>\n",
       "      <td>0.00000</td>\n",
       "      <td>0.000000</td>\n",
       "      <td>0.762569</td>\n",
       "      <td>0.000000</td>\n",
       "      <td>0.0</td>\n",
       "      <td>0.0</td>\n",
       "      <td>0.0</td>\n",
       "      <td>0.0</td>\n",
       "      <td>0.0</td>\n",
       "      <td>0.0</td>\n",
       "      <td>...</td>\n",
       "      <td>0.0</td>\n",
       "      <td>0.0</td>\n",
       "      <td>0.0</td>\n",
       "      <td>0.0</td>\n",
       "      <td>0.0</td>\n",
       "      <td>0.0</td>\n",
       "      <td>0.0</td>\n",
       "      <td>0.0</td>\n",
       "      <td>0.0</td>\n",
       "      <td>NaN</td>\n",
       "    </tr>\n",
       "    <tr>\n",
       "      <th>4</th>\n",
       "      <td>0.00000</td>\n",
       "      <td>0.000000</td>\n",
       "      <td>0.000000</td>\n",
       "      <td>0.000000</td>\n",
       "      <td>0.0</td>\n",
       "      <td>0.0</td>\n",
       "      <td>0.0</td>\n",
       "      <td>0.0</td>\n",
       "      <td>0.0</td>\n",
       "      <td>0.0</td>\n",
       "      <td>...</td>\n",
       "      <td>0.0</td>\n",
       "      <td>0.0</td>\n",
       "      <td>0.0</td>\n",
       "      <td>0.0</td>\n",
       "      <td>0.0</td>\n",
       "      <td>0.0</td>\n",
       "      <td>0.0</td>\n",
       "      <td>0.0</td>\n",
       "      <td>0.0</td>\n",
       "      <td>NaN</td>\n",
       "    </tr>\n",
       "  </tbody>\n",
       "</table>\n",
       "<p>5 rows × 4277 columns</p>\n",
       "</div>"
      ],
      "text/plain": [
       "         1     1970s       and  combinations  extra  extraordinarily  factor  \\\n",
       "0  4.50886  5.297317  0.762569      6.213608    0.0              0.0     0.0   \n",
       "1  0.00000  0.000000  0.762569      0.000000    0.0              0.0     0.0   \n",
       "2  0.00000  0.000000  1.525138      0.000000    0.0              0.0     0.0   \n",
       "3  0.00000  0.000000  0.762569      0.000000    0.0              0.0     0.0   \n",
       "4  0.00000  0.000000  0.000000      0.000000    0.0              0.0     0.0   \n",
       "\n",
       "   fell  fellow  female      ...        16  attacks  botox  headaches  per  \\\n",
       "0   0.0     0.0     0.0      ...       0.0      0.0    0.0        0.0  0.0   \n",
       "1   0.0     0.0     0.0      ...       0.0      0.0    0.0        0.0  0.0   \n",
       "2   0.0     0.0     0.0      ...       0.0      0.0    0.0        0.0  0.0   \n",
       "3   0.0     0.0     0.0      ...       0.0      0.0    0.0        0.0  0.0   \n",
       "4   0.0     0.0     0.0      ...       0.0      0.0    0.0        0.0  0.0   \n",
       "\n",
       "   placebos  resulted  benefits  substitutes  section_name  \n",
       "0       0.0       0.0       0.0          0.0    Obituaries  \n",
       "1       0.0       0.0       0.0          0.0         World  \n",
       "2       0.0       0.0       0.0          0.0          U.S.  \n",
       "3       0.0       0.0       0.0          0.0           NaN  \n",
       "4       0.0       0.0       0.0          0.0           NaN  \n",
       "\n",
       "[5 rows x 4277 columns]"
      ]
     },
     "execution_count": 6,
     "metadata": {},
     "output_type": "execute_result"
    }
   ],
   "source": [
    "df = (total.iloc[:, :-1] >= 1).sum(axis=0)\n",
    "idf = np.log(len(total.iloc[:, :-1]) / df)\n",
    "tf_idf = total.iloc[:, :-1] * idf \n",
    "tf_idf[\"section_name\"] = archive_df[\"section_name\"]\n",
    "tf_idf.head()"
   ]
  },
  {
   "cell_type": "code",
   "execution_count": 7,
   "metadata": {},
   "outputs": [],
   "source": [
    "bad_cols = tf_idf.columns[tf_idf.isna().any()].tolist()\n",
    "bad_cols.remove(\"section_name\")\n",
    "#these somehow made it through without having any values, we'll drop them"
   ]
  },
  {
   "cell_type": "code",
   "execution_count": 8,
   "metadata": {},
   "outputs": [
    {
     "data": {
      "text/plain": [
       "[]"
      ]
     },
     "execution_count": 8,
     "metadata": {},
     "output_type": "execute_result"
    }
   ],
   "source": [
    "bad_cols"
   ]
  },
  {
   "cell_type": "code",
   "execution_count": 9,
   "metadata": {},
   "outputs": [
    {
     "data": {
      "text/plain": [
       "['section_name']"
      ]
     },
     "execution_count": 9,
     "metadata": {},
     "output_type": "execute_result"
    }
   ],
   "source": [
    "#drops the columns that are all 0s\n",
    "tf_idf = tf_idf.drop(bad_cols, axis = 1)\n",
    "#only rows that have no section name remain as NA\n",
    "tf_idf.columns[tf_idf.isna().any()].tolist()"
   ]
  },
  {
   "cell_type": "code",
   "execution_count": 10,
   "metadata": {},
   "outputs": [],
   "source": [
    "# I am going to save the data frame at this point for later \n",
    "# when we'll use the rows with NA section names for our test data later\n",
    "tf_idf_to_model = tf_idf"
   ]
  },
  {
   "cell_type": "code",
   "execution_count": 11,
   "metadata": {},
   "outputs": [
    {
     "data": {
      "text/plain": [
       "859"
      ]
     },
     "execution_count": 11,
     "metadata": {},
     "output_type": "execute_result"
    }
   ],
   "source": [
    "#I'll drop the rows with NA section names here\n",
    "tf_idf = tf_idf.dropna()\n",
    "len(tf_idf)"
   ]
  },
  {
   "cell_type": "code",
   "execution_count": 12,
   "metadata": {},
   "outputs": [
    {
     "name": "stderr",
     "output_type": "stream",
     "text": [
      "/opt/conda/lib/python3.6/site-packages/ipykernel_launcher.py:3: SettingWithCopyWarning: \n",
      "A value is trying to be set on a copy of a slice from a DataFrame.\n",
      "Try using .loc[row_indexer,col_indexer] = value instead\n",
      "\n",
      "See the caveats in the documentation: http://pandas.pydata.org/pandas-docs/stable/indexing.html#indexing-view-versus-copy\n",
      "  This is separate from the ipykernel package so we can avoid doing imports until\n"
     ]
    },
    {
     "data": {
      "text/html": [
       "<div>\n",
       "<style scoped>\n",
       "    .dataframe tbody tr th:only-of-type {\n",
       "        vertical-align: middle;\n",
       "    }\n",
       "\n",
       "    .dataframe tbody tr th {\n",
       "        vertical-align: top;\n",
       "    }\n",
       "\n",
       "    .dataframe thead th {\n",
       "        text-align: right;\n",
       "    }\n",
       "</style>\n",
       "<table border=\"1\" class=\"dataframe\">\n",
       "  <thead>\n",
       "    <tr style=\"text-align: right;\">\n",
       "      <th></th>\n",
       "      <th>1</th>\n",
       "      <th>1970s</th>\n",
       "      <th>and</th>\n",
       "      <th>combinations</th>\n",
       "      <th>extra</th>\n",
       "      <th>extraordinarily</th>\n",
       "      <th>factor</th>\n",
       "      <th>fell</th>\n",
       "      <th>fellow</th>\n",
       "      <th>female</th>\n",
       "      <th>...</th>\n",
       "      <th>attacks</th>\n",
       "      <th>botox</th>\n",
       "      <th>headaches</th>\n",
       "      <th>per</th>\n",
       "      <th>placebos</th>\n",
       "      <th>resulted</th>\n",
       "      <th>benefits</th>\n",
       "      <th>substitutes</th>\n",
       "      <th>section_name</th>\n",
       "      <th>word_count</th>\n",
       "    </tr>\n",
       "  </thead>\n",
       "  <tbody>\n",
       "    <tr>\n",
       "      <th>0</th>\n",
       "      <td>4.50886</td>\n",
       "      <td>5.297317</td>\n",
       "      <td>0.762569</td>\n",
       "      <td>6.213608</td>\n",
       "      <td>0.0</td>\n",
       "      <td>0.0</td>\n",
       "      <td>0.0</td>\n",
       "      <td>0.0</td>\n",
       "      <td>0.0</td>\n",
       "      <td>0.0</td>\n",
       "      <td>...</td>\n",
       "      <td>0.0</td>\n",
       "      <td>0.0</td>\n",
       "      <td>0.0</td>\n",
       "      <td>0.0</td>\n",
       "      <td>0.0</td>\n",
       "      <td>0.0</td>\n",
       "      <td>0.0</td>\n",
       "      <td>0.0</td>\n",
       "      <td>Obituaries</td>\n",
       "      <td>660</td>\n",
       "    </tr>\n",
       "    <tr>\n",
       "      <th>1</th>\n",
       "      <td>0.00000</td>\n",
       "      <td>0.000000</td>\n",
       "      <td>0.762569</td>\n",
       "      <td>0.000000</td>\n",
       "      <td>0.0</td>\n",
       "      <td>0.0</td>\n",
       "      <td>0.0</td>\n",
       "      <td>0.0</td>\n",
       "      <td>0.0</td>\n",
       "      <td>0.0</td>\n",
       "      <td>...</td>\n",
       "      <td>0.0</td>\n",
       "      <td>0.0</td>\n",
       "      <td>0.0</td>\n",
       "      <td>0.0</td>\n",
       "      <td>0.0</td>\n",
       "      <td>0.0</td>\n",
       "      <td>0.0</td>\n",
       "      <td>0.0</td>\n",
       "      <td>World</td>\n",
       "      <td>1326</td>\n",
       "    </tr>\n",
       "    <tr>\n",
       "      <th>2</th>\n",
       "      <td>0.00000</td>\n",
       "      <td>0.000000</td>\n",
       "      <td>1.525138</td>\n",
       "      <td>0.000000</td>\n",
       "      <td>0.0</td>\n",
       "      <td>0.0</td>\n",
       "      <td>0.0</td>\n",
       "      <td>0.0</td>\n",
       "      <td>0.0</td>\n",
       "      <td>0.0</td>\n",
       "      <td>...</td>\n",
       "      <td>0.0</td>\n",
       "      <td>0.0</td>\n",
       "      <td>0.0</td>\n",
       "      <td>0.0</td>\n",
       "      <td>0.0</td>\n",
       "      <td>0.0</td>\n",
       "      <td>0.0</td>\n",
       "      <td>0.0</td>\n",
       "      <td>U.S.</td>\n",
       "      <td>1779</td>\n",
       "    </tr>\n",
       "    <tr>\n",
       "      <th>5</th>\n",
       "      <td>0.00000</td>\n",
       "      <td>0.000000</td>\n",
       "      <td>0.000000</td>\n",
       "      <td>0.000000</td>\n",
       "      <td>0.0</td>\n",
       "      <td>0.0</td>\n",
       "      <td>0.0</td>\n",
       "      <td>0.0</td>\n",
       "      <td>0.0</td>\n",
       "      <td>0.0</td>\n",
       "      <td>...</td>\n",
       "      <td>0.0</td>\n",
       "      <td>0.0</td>\n",
       "      <td>0.0</td>\n",
       "      <td>0.0</td>\n",
       "      <td>0.0</td>\n",
       "      <td>0.0</td>\n",
       "      <td>0.0</td>\n",
       "      <td>0.0</td>\n",
       "      <td>Arts</td>\n",
       "      <td>469</td>\n",
       "    </tr>\n",
       "    <tr>\n",
       "      <th>6</th>\n",
       "      <td>0.00000</td>\n",
       "      <td>0.000000</td>\n",
       "      <td>0.000000</td>\n",
       "      <td>0.000000</td>\n",
       "      <td>0.0</td>\n",
       "      <td>0.0</td>\n",
       "      <td>0.0</td>\n",
       "      <td>0.0</td>\n",
       "      <td>0.0</td>\n",
       "      <td>0.0</td>\n",
       "      <td>...</td>\n",
       "      <td>0.0</td>\n",
       "      <td>0.0</td>\n",
       "      <td>0.0</td>\n",
       "      <td>0.0</td>\n",
       "      <td>0.0</td>\n",
       "      <td>0.0</td>\n",
       "      <td>0.0</td>\n",
       "      <td>0.0</td>\n",
       "      <td>World</td>\n",
       "      <td>778</td>\n",
       "    </tr>\n",
       "  </tbody>\n",
       "</table>\n",
       "<p>5 rows × 4278 columns</p>\n",
       "</div>"
      ],
      "text/plain": [
       "         1     1970s       and  combinations  extra  extraordinarily  factor  \\\n",
       "0  4.50886  5.297317  0.762569      6.213608    0.0              0.0     0.0   \n",
       "1  0.00000  0.000000  0.762569      0.000000    0.0              0.0     0.0   \n",
       "2  0.00000  0.000000  1.525138      0.000000    0.0              0.0     0.0   \n",
       "5  0.00000  0.000000  0.000000      0.000000    0.0              0.0     0.0   \n",
       "6  0.00000  0.000000  0.000000      0.000000    0.0              0.0     0.0   \n",
       "\n",
       "   fell  fellow  female     ...      attacks  botox  headaches  per  placebos  \\\n",
       "0   0.0     0.0     0.0     ...          0.0    0.0        0.0  0.0       0.0   \n",
       "1   0.0     0.0     0.0     ...          0.0    0.0        0.0  0.0       0.0   \n",
       "2   0.0     0.0     0.0     ...          0.0    0.0        0.0  0.0       0.0   \n",
       "5   0.0     0.0     0.0     ...          0.0    0.0        0.0  0.0       0.0   \n",
       "6   0.0     0.0     0.0     ...          0.0    0.0        0.0  0.0       0.0   \n",
       "\n",
       "   resulted  benefits  substitutes  section_name  word_count  \n",
       "0       0.0       0.0          0.0    Obituaries         660  \n",
       "1       0.0       0.0          0.0         World        1326  \n",
       "2       0.0       0.0          0.0          U.S.        1779  \n",
       "5       0.0       0.0          0.0          Arts         469  \n",
       "6       0.0       0.0          0.0         World         778  \n",
       "\n",
       "[5 rows x 4278 columns]"
      ]
     },
     "execution_count": 12,
     "metadata": {},
     "output_type": "execute_result"
    }
   ],
   "source": [
    "#Lets add word count to our model\n",
    "\n",
    "tf_idf[\"word_count\"] = archive_df[\"word_count\"]\n",
    "tf_idf.head()"
   ]
  },
  {
   "cell_type": "code",
   "execution_count": 13,
   "metadata": {},
   "outputs": [
    {
     "data": {
      "text/plain": [
       "[]"
      ]
     },
     "execution_count": 13,
     "metadata": {},
     "output_type": "execute_result"
    }
   ],
   "source": [
    "tf_idf.columns[tf_idf.isna().any()].tolist()\n",
    "#Nothing is missing!"
   ]
  },
  {
   "cell_type": "code",
   "execution_count": 14,
   "metadata": {},
   "outputs": [
    {
     "data": {
      "text/plain": [
       "U.S.       135\n",
       "World      105\n",
       "Arts        68\n",
       "Opinion     67\n",
       "Sports      54\n",
       "Name: section_name, dtype: int64"
      ]
     },
     "execution_count": 14,
     "metadata": {},
     "output_type": "execute_result"
    }
   ],
   "source": [
    "tf_idf[\"section_name\"].value_counts().head()"
   ]
  },
  {
   "cell_type": "code",
   "execution_count": 15,
   "metadata": {},
   "outputs": [
    {
     "data": {
      "text/plain": [
       "0.02222222222222222"
      ]
     },
     "execution_count": 15,
     "metadata": {},
     "output_type": "execute_result"
    }
   ],
   "source": [
    "from sklearn.preprocessing import QuantileTransformer\n",
    "from sklearn.feature_extraction import DictVectorizer\n",
    "from sklearn.neighbors import KNeighborsClassifier\n",
    "from sklearn.pipeline import Pipeline\n",
    "from sklearn.model_selection import cross_val_score\n",
    "\n",
    "vec = DictVectorizer(sparse = False)\n",
    "scaler = QuantileTransformer()\n",
    "\n",
    "X_train = tf_idf.drop(\"section_name\", axis=1)\n",
    "y_train = tf_idf[\"section_name\"]\n",
    "X_train_dict = X_train.to_dict(orient=\"records\")\n",
    "model = KNeighborsClassifier(n_neighbors=10)\n",
    "\n",
    "pipeline = Pipeline([('vectorizer', vec), ('scaler', scaler), ('fit', model)])\n",
    "np.mean(cross_val_score(pipeline, X_train_dict, y_train == \"U.S.\", cv=5, scoring=\"recall\"))"
   ]
  },
  {
   "cell_type": "markdown",
   "metadata": {},
   "source": [
    "This is a pretty bad model but that goes to show that predicting the section name of an article just based on the first paragraph is a tough thing for this kind of model to do."
   ]
  },
  {
   "cell_type": "markdown",
   "metadata": {},
   "source": [
    "Let's use it to predict those articles from earlier that had NA for their section names!"
   ]
  },
  {
   "cell_type": "code",
   "execution_count": 16,
   "metadata": {},
   "outputs": [
    {
     "name": "stdout",
     "output_type": "stream",
     "text": [
      "140 859\n"
     ]
    }
   ],
   "source": [
    "unknown_test_idf = tf_idf_to_model[tf_idf_to_model[\"section_name\"].isnull()]\n",
    "known_train_idf = tf_idf_to_model[tf_idf_to_model[\"section_name\"].notnull()]\n",
    "print(len(unknown_test_idf), len(known_train_idf))"
   ]
  },
  {
   "cell_type": "code",
   "execution_count": 17,
   "metadata": {},
   "outputs": [
    {
     "name": "stderr",
     "output_type": "stream",
     "text": [
      "/opt/conda/lib/python3.6/site-packages/sklearn/metrics/classification.py:1143: UndefinedMetricWarning: Precision is ill-defined and being set to 0.0 due to no predicted samples.\n",
      "  'precision', 'predicted', average, warn_for)\n",
      "/opt/conda/lib/python3.6/site-packages/sklearn/metrics/classification.py:1143: UndefinedMetricWarning: Precision is ill-defined and being set to 0.0 due to no predicted samples.\n",
      "  'precision', 'predicted', average, warn_for)\n",
      "/opt/conda/lib/python3.6/site-packages/sklearn/metrics/classification.py:1143: UndefinedMetricWarning: Precision is ill-defined and being set to 0.0 due to no predicted samples.\n",
      "  'precision', 'predicted', average, warn_for)\n"
     ]
    }
   ],
   "source": [
    "vec = DictVectorizer(sparse=False)\n",
    "scaler = QuantileTransformer()\n",
    "X_dict_idf = known_train_idf.drop(\"section_name\", axis = 1).to_dict(orient = \"records\")\n",
    "y_idf = known_train_idf[\"section_name\"]\n",
    "\n",
    "# calculates estimate of test error based on 5-fold cross validation\n",
    "def get_cv_error(k):\n",
    "    model = KNeighborsClassifier(n_neighbors=k)\n",
    "    pipeline = Pipeline([(\"vectorizer\", vec), (\"scaler\", scaler), (\"fit\", model)])\n",
    "    f1 = np.mean(-cross_val_score(\n",
    "        pipeline, X_dict_idf, y_idf == \"U.S.\", \n",
    "        cv=2, scoring=\"precision\"\n",
    "    ))\n",
    "    return f1\n",
    "    \n",
    "ks = pd.Series(range(1, 11))\n",
    "ks.index = range(1, 11)\n",
    "test_errs = ks.apply(get_cv_error)"
   ]
  },
  {
   "cell_type": "code",
   "execution_count": 18,
   "metadata": {},
   "outputs": [
    {
     "name": "stdout",
     "output_type": "stream",
     "text": [
      "Optimal K:  7\n"
     ]
    }
   ],
   "source": [
    "test_errs.plot.line()\n",
    "best_k = test_errs.sort_values(ascending=False).idxmax()\n",
    "print(\"Optimal K: \", best_k)"
   ]
  },
  {
   "cell_type": "code",
   "execution_count": 19,
   "metadata": {},
   "outputs": [],
   "source": [
    "from sklearn.metrics import confusion_matrix\n",
    "\n",
    "X_train_idf = known_train_idf.drop(\"section_name\", axis = 1)\n",
    "y_train_idf = known_train_idf[\"section_name\"]\n",
    "\n",
    "scaler = QuantileTransformer()\n",
    "scaler.fit(X_train_idf)\n",
    "X_train_sc_idf = scaler.transform(X_train_idf)\n",
    "\n",
    "model = KNeighborsClassifier(n_neighbors=best_k)\n",
    "model.fit(X_train_sc_idf, y_train_idf)\n",
    "\n",
    "predictions3 = model.predict(X_train_idf)"
   ]
  },
  {
   "cell_type": "markdown",
   "metadata": {},
   "source": [
    "Let's test what the confusion matrix looks like!"
   ]
  },
  {
   "cell_type": "code",
   "execution_count": 20,
   "metadata": {},
   "outputs": [
    {
     "data": {
      "text/plain": [
       "U.S.       135\n",
       "World      105\n",
       "Arts        68\n",
       "Opinion     67\n",
       "Sports      54\n",
       "Name: section_name, dtype: int64"
      ]
     },
     "execution_count": 20,
     "metadata": {},
     "output_type": "execute_result"
    }
   ],
   "source": [
    "known_train_idf[\"section_name\"].value_counts().head()"
   ]
  },
  {
   "cell_type": "code",
   "execution_count": 21,
   "metadata": {},
   "outputs": [
    {
     "data": {
      "text/plain": [
       "<matplotlib.axes._subplots.AxesSubplot at 0x7fa6755679b0>"
      ]
     },
     "execution_count": 21,
     "metadata": {},
     "output_type": "execute_result"
    },
    {
     "data": {
      "image/png": "[encoded data removed]",
      "text/plain": [
       "<Figure size 432x288 with 2 Axes>"
      ]
     },
     "metadata": {
      "needs_background": "light"
     },
     "output_type": "display_data"
    }
   ],
   "source": [
    "conf_matrix = pd.DataFrame(confusion_matrix(known_train_idf[\"section_name\"], predictions3))\n",
    "conf_matrix\n",
    "\n",
    "import seaborn\n",
    "seaborn.heatmap(conf_matrix)"
   ]
  },
  {
   "cell_type": "markdown",
   "metadata": {},
   "source": [
    "Now I will predict the section names of the 140 articles in our dataset that didn't have section names:"
   ]
  },
  {
   "cell_type": "code",
   "execution_count": 22,
   "metadata": {},
   "outputs": [
    {
     "data": {
      "text/plain": [
       "array(['U.S.', 'U.S.', 'U.S.', 'U.S.', 'Opinion', 'World', 'U.S.', 'U.S.',\n",
       "       'Opinion', 'U.S.', 'World', 'U.S.', 'U.S.', 'Opinion', 'Opinion',\n",
       "       'U.S.', 'U.S.', 'Opinion', 'U.S.', 'Obituaries', 'Technology',\n",
       "       'U.S.', 'U.S.', 'U.S.', 'U.S.', 'U.S.', 'U.S.', 'U.S.', 'U.S.',\n",
       "       'U.S.', 'Opinion', 'U.S.', 'U.S.', 'U.S.', 'U.S.', 'U.S.', 'U.S.',\n",
       "       'U.S.', 'U.S.', 'U.S.', 'U.S.', 'U.S.', 'U.S.', 'U.S.', 'U.S.',\n",
       "       'U.S.', 'U.S.', 'Opinion', 'U.S.', 'U.S.', 'U.S.', 'U.S.', 'U.S.',\n",
       "       'World', 'U.S.', 'U.S.', 'U.S.', 'U.S.', 'U.S.', 'U.S.',\n",
       "       'The Learning Network', 'U.S.', 'U.S.', 'U.S.', 'U.S.', 'U.S.',\n",
       "       'U.S.', 'U.S.', 'U.S.', 'U.S.', 'U.S.', 'U.S.', 'U.S.',\n",
       "       'The Learning Network', 'U.S.', 'U.S.', 'Opinion', 'U.S.', 'U.S.',\n",
       "       'Opinion', 'U.S.', 'U.S.', 'U.S.', 'Opinion', 'U.S.', 'U.S.',\n",
       "       'U.S.', 'U.S.', 'U.S.', 'Opinion', 'U.S.', 'U.S.', 'U.S.', 'U.S.',\n",
       "       'U.S.', 'U.S.', 'U.S.', 'U.S.', 'U.S.', 'U.S.', 'U.S.', 'U.S.',\n",
       "       'U.S.', 'U.S.', 'U.S.', 'U.S.', 'U.S.', 'U.S.', 'U.S.', 'U.S.',\n",
       "       'U.S.', 'U.S.', 'U.S.', 'U.S.', 'U.S.', 'U.S.', 'U.S.', 'U.S.',\n",
       "       'U.S.', 'U.S.', 'U.S.', 'U.S.', 'Arts', 'U.S.', 'U.S.', 'Sports',\n",
       "       'Opinion', 'World', 'U.S.', 'U.S.', 'U.S.', 'U.S.', 'U.S.', 'U.S.',\n",
       "       'U.S.', 'U.S.', 'U.S.', 'U.S.', 'U.S.', 'U.S.'], dtype=object)"
      ]
     },
     "execution_count": 22,
     "metadata": {},
     "output_type": "execute_result"
    }
   ],
   "source": [
    "\n",
    "X_train_idf = known_train_idf.drop(\"section_name\", axis = 1)\n",
    "y_train_idf = known_train_idf[\"section_name\"]\n",
    "\n",
    "\n",
    "scaler = QuantileTransformer()\n",
    "scaler.fit(X_train_idf)\n",
    "X_train_sc_idf = scaler.transform(X_train_idf)\n",
    "\n",
    "\n",
    "model = KNeighborsClassifier(n_neighbors= best_k)\n",
    "model.fit(X_train_sc_idf, y_train_idf)\n",
    "\n",
    "\n",
    "x_new_idf = unknown_test_idf.drop(\"section_name\", axis = 1)\n",
    "x_new_sc_idf = scaler.transform(x_new_idf)\n",
    "\n",
    "\n",
    "predictions4 = model.predict(x_new_sc_idf)\n",
    "predictions4"
   ]
  },
  {
   "cell_type": "markdown",
   "metadata": {},
   "source": [
    "U.S. was the most common section name so it's not surprising that it was the most commonly predicted section name, though it may have been a bit disproportionate here."
   ]
  },
  {
   "cell_type": "markdown",
   "metadata": {},
   "source": [
    "**We also did a K-Nearest Neighbors model on the NYT hardcover fiction bestseller list to predict where on the list a book would be based on its description**"
   ]
  },
  {
   "cell_type": "code",
   "execution_count": null,
   "metadata": {},
   "outputs": [],
   "source": []
  },
  {
   "cell_type": "code",
   "execution_count": 6,
   "metadata": {},
   "outputs": [],
   "source": [
    "#Books cleaning\n",
    "\n",
    "date_list = [\"2018-05-01\", \"2018-06-01\", \"2018-07-01\", \"2018-08-01\",\"2018-09-01\", \"2018-10-01\",\n",
    "             \"2018-11-01\", \"2018-12-01\", \"2019-01-01\", \"2019-02-01\"] \n",
    "#first day of the last 10 months to avoid much overlap of books on multiple lists\n",
    "\n",
    "json_list = []\n",
    "for date in date_list:\n",
    "    link = \"https://api.nytimes.com/svc/books/v3/lists/%s/hardcover-fiction.json?api-key=%s\" %(date, apikey)\n",
    "    resp = requests.get(link)\n",
    "    json_list.append(pd.DataFrame(json_normalize(resp.json()['results']['books'])))\n",
    "    time.sleep(0.5)\n",
    "\n",
    "df = pd.concat(json_list, ignore_index = True)"
   ]
  },
  {
   "cell_type": "code",
   "execution_count": 7,
   "metadata": {},
   "outputs": [
    {
     "data": {
      "text/html": [
       "<div>\n",
       "<style scoped>\n",
       "    .dataframe tbody tr th:only-of-type {\n",
       "        vertical-align: middle;\n",
       "    }\n",
       "\n",
       "    .dataframe tbody tr th {\n",
       "        vertical-align: top;\n",
       "    }\n",
       "\n",
       "    .dataframe thead th {\n",
       "        text-align: right;\n",
       "    }\n",
       "</style>\n",
       "<table border=\"1\" class=\"dataframe\">\n",
       "  <thead>\n",
       "    <tr style=\"text-align: right;\">\n",
       "      <th></th>\n",
       "      <th>title</th>\n",
       "      <th>weeks_on_list</th>\n",
       "      <th>author</th>\n",
       "      <th>description</th>\n",
       "      <th>publisher</th>\n",
       "      <th>rank</th>\n",
       "    </tr>\n",
       "  </thead>\n",
       "  <tbody>\n",
       "    <tr>\n",
       "      <th>1</th>\n",
       "      <td>AFTER ANNA</td>\n",
       "      <td>2</td>\n",
       "      <td>Lisa Scottoline</td>\n",
       "      <td>A woman marries a widower and reunites with he...</td>\n",
       "      <td>St. Martin's</td>\n",
       "      <td>2</td>\n",
       "    </tr>\n",
       "    <tr>\n",
       "      <th>2</th>\n",
       "      <td>NOIR</td>\n",
       "      <td>1</td>\n",
       "      <td>Christopher Moore</td>\n",
       "      <td>In the summer of 1947, a woman and an Air Forc...</td>\n",
       "      <td>Morrow</td>\n",
       "      <td>3</td>\n",
       "    </tr>\n",
       "    <tr>\n",
       "      <th>3</th>\n",
       "      <td>I'VE GOT MY EYES ON YOU</td>\n",
       "      <td>3</td>\n",
       "      <td>Mary Higgins Clark</td>\n",
       "      <td>A high school guidance counselor tries to unco...</td>\n",
       "      <td>Simon &amp; Schuster</td>\n",
       "      <td>4</td>\n",
       "    </tr>\n",
       "    <tr>\n",
       "      <th>4</th>\n",
       "      <td>THE FEMALE PERSUASION</td>\n",
       "      <td>3</td>\n",
       "      <td>Meg Wolitzer</td>\n",
       "      <td>The relationship between a college freshman an...</td>\n",
       "      <td>Riverhead</td>\n",
       "      <td>5</td>\n",
       "    </tr>\n",
       "    <tr>\n",
       "      <th>10</th>\n",
       "      <td>SHOOT FIRST</td>\n",
       "      <td>2</td>\n",
       "      <td>Stuart Woods</td>\n",
       "      <td>Stone Barrington searches for the person who p...</td>\n",
       "      <td>Putnam</td>\n",
       "      <td>11</td>\n",
       "    </tr>\n",
       "  </tbody>\n",
       "</table>\n",
       "</div>"
      ],
      "text/plain": [
       "                      title  weeks_on_list              author  \\\n",
       "1                AFTER ANNA              2     Lisa Scottoline   \n",
       "2                      NOIR              1   Christopher Moore   \n",
       "3   I'VE GOT MY EYES ON YOU              3  Mary Higgins Clark   \n",
       "4     THE FEMALE PERSUASION              3        Meg Wolitzer   \n",
       "10              SHOOT FIRST              2        Stuart Woods   \n",
       "\n",
       "                                          description         publisher  rank  \n",
       "1   A woman marries a widower and reunites with he...      St. Martin's     2  \n",
       "2   In the summer of 1947, a woman and an Air Forc...            Morrow     3  \n",
       "3   A high school guidance counselor tries to unco...  Simon & Schuster     4  \n",
       "4   The relationship between a college freshman an...         Riverhead     5  \n",
       "10  Stone Barrington searches for the person who p...            Putnam    11  "
      ]
     },
     "execution_count": 7,
     "metadata": {},
     "output_type": "execute_result"
    }
   ],
   "source": [
    "books_df_dups = df[[\"title\", \"weeks_on_list\", \"author\", \"description\", \"publisher\", \"rank\"]]\n",
    "books_df = books_df_dups.drop_duplicates(\"title\", keep = \"last\") #getting rid of books that appear more than once, keeping most recent row only\n",
    "books_df.head()"
   ]
  },
  {
   "cell_type": "code",
   "execution_count": 8,
   "metadata": {},
   "outputs": [],
   "source": [
    "books_df = books_df.reset_index()\n",
    "books_df.to_csv(\"books_df.csv\")"
   ]
  },
  {
   "cell_type": "code",
   "execution_count": null,
   "metadata": {},
   "outputs": [],
   "source": []
  },
  {
   "cell_type": "code",
   "execution_count": null,
   "metadata": {},
   "outputs": [],
   "source": [
    "co_df = pd.DataFrame()\n",
    "import time\n",
    "for i in range(1,11):\n",
    "    resp = requests.get('https://api.nytimes.com/svc/search/v2/articlesearch.json?fq=headline:(\"Colorado\")&page=%d&api-key=%s' % (i, apikey))\n",
    "    co_headlines = "
   ]
  },
  {
   "cell_type": "code",
   "execution_count": 25,
   "metadata": {},
   "outputs": [],
   "source": [
    "books_df = pd.read_csv(\"books_df.csv\")"
   ]
  },
  {
   "cell_type": "code",
   "execution_count": 26,
   "metadata": {},
   "outputs": [],
   "source": [
    "from collections import Counter\n",
    "\n",
    "words = (\n",
    "    books_df[\"description\"].\n",
    "    str.lower().\n",
    "    str.replace(\"<br />\", \" \").\n",
    "    str.replace(\"[^\\w\\s]\", \"\").\n",
    "    str.split()\n",
    ").dropna()\n",
    "\n",
    "bag_of_words = words.apply(Counter)\n",
    "\n",
    "tf = pd.DataFrame(list(bag_of_words))\n",
    "tf.fillna(0, inplace = True);"
   ]
  },
  {
   "cell_type": "code",
   "execution_count": 27,
   "metadata": {},
   "outputs": [
    {
     "data": {
      "text/html": [
       "<div>\n",
       "<style scoped>\n",
       "    .dataframe tbody tr th:only-of-type {\n",
       "        vertical-align: middle;\n",
       "    }\n",
       "\n",
       "    .dataframe tbody tr th {\n",
       "        vertical-align: top;\n",
       "    }\n",
       "\n",
       "    .dataframe thead th {\n",
       "        text-align: right;\n",
       "    }\n",
       "</style>\n",
       "<table border=\"1\" class=\"dataframe\">\n",
       "  <thead>\n",
       "    <tr style=\"text-align: right;\">\n",
       "      <th></th>\n",
       "      <th>a</th>\n",
       "      <th>after</th>\n",
       "      <th>and</th>\n",
       "      <th>daughter</th>\n",
       "      <th>fbi</th>\n",
       "      <th>federal</th>\n",
       "      <th>feelings</th>\n",
       "      <th>felony</th>\n",
       "      <th>feminism</th>\n",
       "      <th>feminist</th>\n",
       "      <th>...</th>\n",
       "      <th>killer</th>\n",
       "      <th>leaves</th>\n",
       "      <th>letters</th>\n",
       "      <th>pendergast</th>\n",
       "      <th>removes</th>\n",
       "      <th>track</th>\n",
       "      <th>born</th>\n",
       "      <th>england</th>\n",
       "      <th>explores</th>\n",
       "      <th>reacher</th>\n",
       "    </tr>\n",
       "  </thead>\n",
       "  <tbody>\n",
       "    <tr>\n",
       "      <th>0</th>\n",
       "      <td>2.0</td>\n",
       "      <td>1.0</td>\n",
       "      <td>2.0</td>\n",
       "      <td>1.0</td>\n",
       "      <td>0.0</td>\n",
       "      <td>0.0</td>\n",
       "      <td>0.0</td>\n",
       "      <td>0.0</td>\n",
       "      <td>0.0</td>\n",
       "      <td>0.0</td>\n",
       "      <td>...</td>\n",
       "      <td>0.0</td>\n",
       "      <td>0.0</td>\n",
       "      <td>0.0</td>\n",
       "      <td>0.0</td>\n",
       "      <td>0.0</td>\n",
       "      <td>0.0</td>\n",
       "      <td>0.0</td>\n",
       "      <td>0.0</td>\n",
       "      <td>0.0</td>\n",
       "      <td>0.0</td>\n",
       "    </tr>\n",
       "    <tr>\n",
       "      <th>1</th>\n",
       "      <td>3.0</td>\n",
       "      <td>0.0</td>\n",
       "      <td>1.0</td>\n",
       "      <td>0.0</td>\n",
       "      <td>0.0</td>\n",
       "      <td>0.0</td>\n",
       "      <td>0.0</td>\n",
       "      <td>0.0</td>\n",
       "      <td>0.0</td>\n",
       "      <td>0.0</td>\n",
       "      <td>...</td>\n",
       "      <td>0.0</td>\n",
       "      <td>0.0</td>\n",
       "      <td>0.0</td>\n",
       "      <td>0.0</td>\n",
       "      <td>0.0</td>\n",
       "      <td>0.0</td>\n",
       "      <td>0.0</td>\n",
       "      <td>0.0</td>\n",
       "      <td>0.0</td>\n",
       "      <td>0.0</td>\n",
       "    </tr>\n",
       "    <tr>\n",
       "      <th>2</th>\n",
       "      <td>1.0</td>\n",
       "      <td>0.0</td>\n",
       "      <td>0.0</td>\n",
       "      <td>0.0</td>\n",
       "      <td>0.0</td>\n",
       "      <td>0.0</td>\n",
       "      <td>0.0</td>\n",
       "      <td>0.0</td>\n",
       "      <td>0.0</td>\n",
       "      <td>0.0</td>\n",
       "      <td>...</td>\n",
       "      <td>0.0</td>\n",
       "      <td>0.0</td>\n",
       "      <td>0.0</td>\n",
       "      <td>0.0</td>\n",
       "      <td>0.0</td>\n",
       "      <td>0.0</td>\n",
       "      <td>0.0</td>\n",
       "      <td>0.0</td>\n",
       "      <td>0.0</td>\n",
       "      <td>0.0</td>\n",
       "    </tr>\n",
       "    <tr>\n",
       "      <th>3</th>\n",
       "      <td>2.0</td>\n",
       "      <td>0.0</td>\n",
       "      <td>1.0</td>\n",
       "      <td>0.0</td>\n",
       "      <td>0.0</td>\n",
       "      <td>0.0</td>\n",
       "      <td>0.0</td>\n",
       "      <td>0.0</td>\n",
       "      <td>1.0</td>\n",
       "      <td>1.0</td>\n",
       "      <td>...</td>\n",
       "      <td>0.0</td>\n",
       "      <td>0.0</td>\n",
       "      <td>0.0</td>\n",
       "      <td>0.0</td>\n",
       "      <td>0.0</td>\n",
       "      <td>0.0</td>\n",
       "      <td>0.0</td>\n",
       "      <td>0.0</td>\n",
       "      <td>0.0</td>\n",
       "      <td>0.0</td>\n",
       "    </tr>\n",
       "    <tr>\n",
       "      <th>4</th>\n",
       "      <td>1.0</td>\n",
       "      <td>0.0</td>\n",
       "      <td>0.0</td>\n",
       "      <td>0.0</td>\n",
       "      <td>0.0</td>\n",
       "      <td>0.0</td>\n",
       "      <td>0.0</td>\n",
       "      <td>0.0</td>\n",
       "      <td>0.0</td>\n",
       "      <td>0.0</td>\n",
       "      <td>...</td>\n",
       "      <td>0.0</td>\n",
       "      <td>0.0</td>\n",
       "      <td>0.0</td>\n",
       "      <td>0.0</td>\n",
       "      <td>0.0</td>\n",
       "      <td>0.0</td>\n",
       "      <td>0.0</td>\n",
       "      <td>0.0</td>\n",
       "      <td>0.0</td>\n",
       "      <td>0.0</td>\n",
       "    </tr>\n",
       "  </tbody>\n",
       "</table>\n",
       "<p>5 rows × 795 columns</p>\n",
       "</div>"
      ],
      "text/plain": [
       "     a  after  and  daughter  fbi  federal  feelings  felony  feminism  \\\n",
       "0  2.0    1.0  2.0       1.0  0.0      0.0       0.0     0.0       0.0   \n",
       "1  3.0    0.0  1.0       0.0  0.0      0.0       0.0     0.0       0.0   \n",
       "2  1.0    0.0  0.0       0.0  0.0      0.0       0.0     0.0       0.0   \n",
       "3  2.0    0.0  1.0       0.0  0.0      0.0       0.0     0.0       1.0   \n",
       "4  1.0    0.0  0.0       0.0  0.0      0.0       0.0     0.0       0.0   \n",
       "\n",
       "   feminist   ...     killer  leaves  letters  pendergast  removes  track  \\\n",
       "0       0.0   ...        0.0     0.0      0.0         0.0      0.0    0.0   \n",
       "1       0.0   ...        0.0     0.0      0.0         0.0      0.0    0.0   \n",
       "2       0.0   ...        0.0     0.0      0.0         0.0      0.0    0.0   \n",
       "3       1.0   ...        0.0     0.0      0.0         0.0      0.0    0.0   \n",
       "4       0.0   ...        0.0     0.0      0.0         0.0      0.0    0.0   \n",
       "\n",
       "   born  england  explores  reacher  \n",
       "0   0.0      0.0       0.0      0.0  \n",
       "1   0.0      0.0       0.0      0.0  \n",
       "2   0.0      0.0       0.0      0.0  \n",
       "3   0.0      0.0       0.0      0.0  \n",
       "4   0.0      0.0       0.0      0.0  \n",
       "\n",
       "[5 rows x 795 columns]"
      ]
     },
     "execution_count": 27,
     "metadata": {},
     "output_type": "execute_result"
    }
   ],
   "source": [
    "total = pd.DataFrame()\n",
    "for i in range(len(books_df.title)-1):\n",
    "    a = tf[tf.index == i].sum(axis=0).sort_values(ascending=False)[:50] #top 50 words of the description, but they are usually less than 50 words long\n",
    "    total = total.append(a, ignore_index = True)\n",
    "\n",
    "total.fillna(0, inplace=True)\n",
    "total.head()"
   ]
  },
  {
   "cell_type": "code",
   "execution_count": 28,
   "metadata": {},
   "outputs": [],
   "source": [
    "import numpy as np\n",
    "\n",
    "df = (total.iloc[:, :-1] > 0).sum(axis=0)\n",
    "idf = np.log(len(total.iloc[:, :-1]) / df)\n",
    "tf_idf = total.iloc[:, :-1] * idf \n",
    "tf_idf[\"rank_\"] = books_df[\"rank\"]\n",
    "tf_idf[\"author_\"] = books_df[\"author\"] #adding 3 more variables to the model\n",
    "tf_idf[\"publisher_\"] = books_df[\"publisher\"]\n",
    "tf_idf[\"weeks_on_list\"] = books_df[\"weeks_on_list\"]"
   ]
  },
  {
   "cell_type": "code",
   "execution_count": 29,
   "metadata": {},
   "outputs": [
    {
     "data": {
      "text/plain": [
       "['zeus']"
      ]
     },
     "execution_count": 29,
     "metadata": {},
     "output_type": "execute_result"
    }
   ],
   "source": [
    "tf_idf.columns[tf_idf.isna().any()].tolist()"
   ]
  },
  {
   "cell_type": "code",
   "execution_count": 30,
   "metadata": {},
   "outputs": [],
   "source": [
    "tf_idf = tf_idf.drop(\"zeus\", axis=1)"
   ]
  },
  {
   "cell_type": "code",
   "execution_count": 31,
   "metadata": {},
   "outputs": [
    {
     "data": {
      "text/plain": [
       "[]"
      ]
     },
     "execution_count": 31,
     "metadata": {},
     "output_type": "execute_result"
    }
   ],
   "source": [
    "tf_idf.columns[tf_idf.isna().any()].tolist() #nothing is missing, so lets model!"
   ]
  },
  {
   "cell_type": "code",
   "execution_count": 32,
   "metadata": {},
   "outputs": [
    {
     "data": {
      "text/plain": [
       "4.3974101894488999"
      ]
     },
     "execution_count": 32,
     "metadata": {},
     "output_type": "execute_result"
    }
   ],
   "source": [
    "from sklearn.preprocessing import QuantileTransformer\n",
    "from sklearn.feature_extraction import DictVectorizer\n",
    "from sklearn.neighbors import KNeighborsRegressor\n",
    "from sklearn.pipeline import Pipeline\n",
    "from sklearn.model_selection import cross_val_score\n",
    "\n",
    "vec = DictVectorizer(sparse = False)\n",
    "scaler = QuantileTransformer()\n",
    "\n",
    "X_train = tf_idf.drop(\"rank_\", axis=1)\n",
    "y_train = tf_idf[\"rank_\"]\n",
    "X_train_dict = X_train.to_dict(orient=\"records\")\n",
    "model = KNeighborsRegressor(n_neighbors=10)\n",
    "\n",
    "pipeline = Pipeline([('vectorizer', vec), ('scaler', scaler), ('fit', model)])\n",
    "np.sqrt(np.mean(-cross_val_score(pipeline, X_train_dict, y_train, cv=5, scoring=\"neg_mean_squared_error\")))"
   ]
  },
  {
   "cell_type": "markdown",
   "metadata": {},
   "source": [
    "This is okay considering the range here is between 1 and 15"
   ]
  },
  {
   "cell_type": "code",
   "execution_count": null,
   "metadata": {},
   "outputs": [],
   "source": []
  },
  {
   "cell_type": "markdown",
   "metadata": {},
   "source": [
    "**This is the first looks at the API we did**"
   ]
  },
  {
   "cell_type": "code",
   "execution_count": 2,
   "metadata": {},
   "outputs": [],
   "source": [
    "#imports\n",
    "import pandas as pd\n",
    "import requests\n",
    "from pandas.io.json import json_normalize\n",
    "import time\n",
    "\n",
    "apikey = 'OOFXXAG7cuVc2q9C0EekCNqWm4lzERfm'"
   ]
  },
  {
   "cell_type": "code",
   "execution_count": 3,
   "metadata": {},
   "outputs": [],
   "source": [
    "archive = pd.read_csv(\"archive.csv\")"
   ]
  },
  {
   "cell_type": "code",
   "execution_count": 3,
   "metadata": {},
   "outputs": [
    {
     "data": {
      "text/plain": [
       "article       6531\n",
       "multimedia     378\n",
       "audio           68\n",
       "Name: document_type, dtype: int64"
      ]
     },
     "execution_count": 3,
     "metadata": {},
     "output_type": "execute_result"
    }
   ],
   "source": [
    "archive.document_type.value_counts()"
   ]
  },
  {
   "cell_type": "code",
   "execution_count": 4,
   "metadata": {},
   "outputs": [
    {
     "data": {
      "text/plain": [
       "<matplotlib.axes._subplots.AxesSubplot at 0x7f7b01681860>"
      ]
     },
     "execution_count": 4,
     "metadata": {},
     "output_type": "execute_result"
    }
   ],
   "source": [
    "archive[\"pub_date_str\"].value_counts().sort_values().plot.bar()"
   ]
  },
  {
   "cell_type": "code",
   "execution_count": 5,
   "metadata": {},
   "outputs": [
    {
     "data": {
      "text/plain": [
       "<matplotlib.lines.Line2D at 0x7f7b014591d0>"
      ]
     },
     "execution_count": 5,
     "metadata": {},
     "output_type": "execute_result"
    },
    {
     "data": {
      "image/png": "[encoded data removed]",
      "text/plain": [
       "<Figure size 432x288 with 1 Axes>"
      ]
     },
     "metadata": {
      "needs_background": "light"
     },
     "output_type": "display_data"
    }
   ],
   "source": [
    "archive.groupby('section_name')['word_count'].mean().sort_values(\n",
    ").plot.bar().axhline(y=archive['word_count'].mean()) #make this bigger"
   ]
  },
  {
   "cell_type": "code",
   "execution_count": 6,
   "metadata": {},
   "outputs": [
    {
     "data": {
      "text/html": [
       "<div>\n",
       "<style scoped>\n",
       "    .dataframe tbody tr th:only-of-type {\n",
       "        vertical-align: middle;\n",
       "    }\n",
       "\n",
       "    .dataframe tbody tr th {\n",
       "        vertical-align: top;\n",
       "    }\n",
       "\n",
       "    .dataframe thead th {\n",
       "        text-align: right;\n",
       "    }\n",
       "</style>\n",
       "<table border=\"1\" class=\"dataframe\">\n",
       "  <thead>\n",
       "    <tr style=\"text-align: right;\">\n",
       "      <th></th>\n",
       "      <th>abstract</th>\n",
       "      <th>adx_keywords</th>\n",
       "      <th>asset_id</th>\n",
       "      <th>byline</th>\n",
       "      <th>column</th>\n",
       "      <th>des_facet</th>\n",
       "      <th>geo_facet</th>\n",
       "      <th>id</th>\n",
       "      <th>media</th>\n",
       "      <th>org_facet</th>\n",
       "      <th>per_facet</th>\n",
       "      <th>published_date</th>\n",
       "      <th>section</th>\n",
       "      <th>source</th>\n",
       "      <th>title</th>\n",
       "      <th>type</th>\n",
       "      <th>uri</th>\n",
       "      <th>url</th>\n",
       "      <th>views</th>\n",
       "    </tr>\n",
       "  </thead>\n",
       "  <tbody>\n",
       "    <tr>\n",
       "      <th>0</th>\n",
       "      <td>A sprawling federal investigation accuses 50 p...</td>\n",
       "      <td>College Admissions Scandal (2019);Colleges and...</td>\n",
       "      <td>100000006406075</td>\n",
       "      <td>By JENNIFER MEDINA, KATIE BENNER and KATE TAYLOR</td>\n",
       "      <td>None</td>\n",
       "      <td>[COLLEGES AND UNIVERSITIES, ADMISSIONS STANDAR...</td>\n",
       "      <td></td>\n",
       "      <td>100000006406075</td>\n",
       "      <td>[{'type': 'image', 'subtype': 'photo', 'captio...</td>\n",
       "      <td>[COLLEGE ADMISSIONS SCANDAL (2019), BRIBERY AN...</td>\n",
       "      <td>[SINGER, WILLIAM RICK, HUFFMAN, FELICITY, LOUG...</td>\n",
       "      <td>2019-03-12</td>\n",
       "      <td>U.S.</td>\n",
       "      <td>The New York Times</td>\n",
       "      <td>Actresses, Business Leaders and Other Wealthy ...</td>\n",
       "      <td>Article</td>\n",
       "      <td>nyt://article/bac76e87-b5fc-54fa-8c0f-46a0688e...</td>\n",
       "      <td>https://www.nytimes.com/2019/03/12/us/college-...</td>\n",
       "      <td>1</td>\n",
       "    </tr>\n",
       "    <tr>\n",
       "      <th>1</th>\n",
       "      <td>The actresses Felicity Huffman and Lori Loughl...</td>\n",
       "      <td>College Admissions Scandal (2019);Admissions S...</td>\n",
       "      <td>100000006406229</td>\n",
       "      <td>By REBECCA HALLECK</td>\n",
       "      <td>None</td>\n",
       "      <td>[ADMISSIONS STANDARDS, COLLEGES AND UNIVERSITI...</td>\n",
       "      <td></td>\n",
       "      <td>100000006406229</td>\n",
       "      <td>[{'type': 'image', 'subtype': 'photo', 'captio...</td>\n",
       "      <td>[COLLEGE ADMISSIONS SCANDAL (2019), CHEATING]</td>\n",
       "      <td>[HUFFMAN, FELICITY, LOUGHLIN, LORI, GIANNULLI,...</td>\n",
       "      <td>2019-03-12</td>\n",
       "      <td>U.S.</td>\n",
       "      <td>The New York Times</td>\n",
       "      <td>Who’s Been Charged in the College Admissions C...</td>\n",
       "      <td>Article</td>\n",
       "      <td>nyt://article/50b479fd-7f67-54d5-91ec-b60178e8...</td>\n",
       "      <td>https://www.nytimes.com/2019/03/12/us/felicity...</td>\n",
       "      <td>2</td>\n",
       "    </tr>\n",
       "    <tr>\n",
       "      <th>2</th>\n",
       "      <td>“Break break, request back to home,” the capta...</td>\n",
       "      <td>Boeing 737 Max Groundings and Safety Concerns ...</td>\n",
       "      <td>100000006410242</td>\n",
       "      <td>By SELAM GEBREKIDAN and JAMES GLANZ</td>\n",
       "      <td>None</td>\n",
       "      <td>[BOEING 737 MAX GROUNDINGS AND SAFETY CONCERNS...</td>\n",
       "      <td></td>\n",
       "      <td>100000006410242</td>\n",
       "      <td>[{'type': 'image', 'subtype': 'photo', 'captio...</td>\n",
       "      <td>[BOEING COMPANY, FEDERAL AVIATION ADMINISTRATI...</td>\n",
       "      <td>[GETACHEW, YARED]</td>\n",
       "      <td>2019-03-14</td>\n",
       "      <td>World</td>\n",
       "      <td>The New York Times</td>\n",
       "      <td>Boeing 737 Max Hit Trouble Right Away, Pilot’s...</td>\n",
       "      <td>Article</td>\n",
       "      <td>nyt://article/63411a1f-beed-55ff-99b5-7c382acf...</td>\n",
       "      <td>https://www.nytimes.com/2019/03/14/world/boein...</td>\n",
       "      <td>3</td>\n",
       "    </tr>\n",
       "    <tr>\n",
       "      <th>3</th>\n",
       "      <td>The attack on two mosques, which appeared to h...</td>\n",
       "      <td>Murders, Attempted Murders and Homicides;Chris...</td>\n",
       "      <td>100000006412038</td>\n",
       "      <td>By THE NEW YORK TIMES</td>\n",
       "      <td>None</td>\n",
       "      <td>[MURDERS, ATTEMPTED MURDERS AND HOMICIDES, CHR...</td>\n",
       "      <td>[NEW ZEALAND, CHRISTCHURCH (NEW ZEALAND)]</td>\n",
       "      <td>100000006412038</td>\n",
       "      <td>[{'type': 'image', 'subtype': 'photo', 'captio...</td>\n",
       "      <td>[TERRORISM, MUSLIMS AND ISLAM, SOCIAL MEDIA]</td>\n",
       "      <td></td>\n",
       "      <td>2019-03-15</td>\n",
       "      <td>World</td>\n",
       "      <td>The New York Times</td>\n",
       "      <td>Jacinda Ardern Consoles Families After New Zea...</td>\n",
       "      <td>Article</td>\n",
       "      <td>nyt://article/54ac784c-9e89-5526-8fa3-4e7734eb...</td>\n",
       "      <td>https://www.nytimes.com/2019/03/15/world/asia/...</td>\n",
       "      <td>4</td>\n",
       "    </tr>\n",
       "    <tr>\n",
       "      <th>4</th>\n",
       "      <td>China was the first major country to ground th...</td>\n",
       "      <td>Airlines and Airplanes;Boeing Company;Aviation...</td>\n",
       "      <td>100000006404643</td>\n",
       "      <td>By DENISE LU, ALLISON McCANN, JIN WU and K.K. ...</td>\n",
       "      <td></td>\n",
       "      <td>[AIRLINES AND AIRPLANES, AVIATION ACCIDENTS, S...</td>\n",
       "      <td>[ADDIS ABABA (ETHIOPIA)]</td>\n",
       "      <td>100000006404643</td>\n",
       "      <td>[{'type': 'image', 'subtype': 'photo', 'captio...</td>\n",
       "      <td>[BOEING COMPANY, LION AIR, ETHIOPIAN AIRLINES,...</td>\n",
       "      <td></td>\n",
       "      <td>2019-03-11</td>\n",
       "      <td>World</td>\n",
       "      <td>The New York Times</td>\n",
       "      <td>From 8,600 Flights to Zero: Grounding the Boei...</td>\n",
       "      <td>Interactive</td>\n",
       "      <td>nyt://interactive/7fcc105c-d025-5f27-841e-e002...</td>\n",
       "      <td>https://www.nytimes.com/interactive/2019/03/11...</td>\n",
       "      <td>5</td>\n",
       "    </tr>\n",
       "  </tbody>\n",
       "</table>\n",
       "</div>"
      ],
      "text/plain": [
       "                                            abstract  \\\n",
       "0  A sprawling federal investigation accuses 50 p...   \n",
       "1  The actresses Felicity Huffman and Lori Loughl...   \n",
       "2  “Break break, request back to home,” the capta...   \n",
       "3  The attack on two mosques, which appeared to h...   \n",
       "4  China was the first major country to ground th...   \n",
       "\n",
       "                                        adx_keywords         asset_id  \\\n",
       "0  College Admissions Scandal (2019);Colleges and...  100000006406075   \n",
       "1  College Admissions Scandal (2019);Admissions S...  100000006406229   \n",
       "2  Boeing 737 Max Groundings and Safety Concerns ...  100000006410242   \n",
       "3  Murders, Attempted Murders and Homicides;Chris...  100000006412038   \n",
       "4  Airlines and Airplanes;Boeing Company;Aviation...  100000006404643   \n",
       "\n",
       "                                              byline column  \\\n",
       "0   By JENNIFER MEDINA, KATIE BENNER and KATE TAYLOR   None   \n",
       "1                                 By REBECCA HALLECK   None   \n",
       "2                By SELAM GEBREKIDAN and JAMES GLANZ   None   \n",
       "3                              By THE NEW YORK TIMES   None   \n",
       "4  By DENISE LU, ALLISON McCANN, JIN WU and K.K. ...          \n",
       "\n",
       "                                           des_facet  \\\n",
       "0  [COLLEGES AND UNIVERSITIES, ADMISSIONS STANDAR...   \n",
       "1  [ADMISSIONS STANDARDS, COLLEGES AND UNIVERSITI...   \n",
       "2  [BOEING 737 MAX GROUNDINGS AND SAFETY CONCERNS...   \n",
       "3  [MURDERS, ATTEMPTED MURDERS AND HOMICIDES, CHR...   \n",
       "4  [AIRLINES AND AIRPLANES, AVIATION ACCIDENTS, S...   \n",
       "\n",
       "                                   geo_facet               id  \\\n",
       "0                                             100000006406075   \n",
       "1                                             100000006406229   \n",
       "2                                             100000006410242   \n",
       "3  [NEW ZEALAND, CHRISTCHURCH (NEW ZEALAND)]  100000006412038   \n",
       "4                   [ADDIS ABABA (ETHIOPIA)]  100000006404643   \n",
       "\n",
       "                                               media  \\\n",
       "0  [{'type': 'image', 'subtype': 'photo', 'captio...   \n",
       "1  [{'type': 'image', 'subtype': 'photo', 'captio...   \n",
       "2  [{'type': 'image', 'subtype': 'photo', 'captio...   \n",
       "3  [{'type': 'image', 'subtype': 'photo', 'captio...   \n",
       "4  [{'type': 'image', 'subtype': 'photo', 'captio...   \n",
       "\n",
       "                                           org_facet  \\\n",
       "0  [COLLEGE ADMISSIONS SCANDAL (2019), BRIBERY AN...   \n",
       "1      [COLLEGE ADMISSIONS SCANDAL (2019), CHEATING]   \n",
       "2  [BOEING COMPANY, FEDERAL AVIATION ADMINISTRATI...   \n",
       "3       [TERRORISM, MUSLIMS AND ISLAM, SOCIAL MEDIA]   \n",
       "4  [BOEING COMPANY, LION AIR, ETHIOPIAN AIRLINES,...   \n",
       "\n",
       "                                           per_facet published_date section  \\\n",
       "0  [SINGER, WILLIAM RICK, HUFFMAN, FELICITY, LOUG...     2019-03-12    U.S.   \n",
       "1  [HUFFMAN, FELICITY, LOUGHLIN, LORI, GIANNULLI,...     2019-03-12    U.S.   \n",
       "2                                  [GETACHEW, YARED]     2019-03-14   World   \n",
       "3                                                        2019-03-15   World   \n",
       "4                                                        2019-03-11   World   \n",
       "\n",
       "               source                                              title  \\\n",
       "0  The New York Times  Actresses, Business Leaders and Other Wealthy ...   \n",
       "1  The New York Times  Who’s Been Charged in the College Admissions C...   \n",
       "2  The New York Times  Boeing 737 Max Hit Trouble Right Away, Pilot’s...   \n",
       "3  The New York Times  Jacinda Ardern Consoles Families After New Zea...   \n",
       "4  The New York Times  From 8,600 Flights to Zero: Grounding the Boei...   \n",
       "\n",
       "          type                                                uri  \\\n",
       "0      Article  nyt://article/bac76e87-b5fc-54fa-8c0f-46a0688e...   \n",
       "1      Article  nyt://article/50b479fd-7f67-54d5-91ec-b60178e8...   \n",
       "2      Article  nyt://article/63411a1f-beed-55ff-99b5-7c382acf...   \n",
       "3      Article  nyt://article/54ac784c-9e89-5526-8fa3-4e7734eb...   \n",
       "4  Interactive  nyt://interactive/7fcc105c-d025-5f27-841e-e002...   \n",
       "\n",
       "                                                 url  views  \n",
       "0  https://www.nytimes.com/2019/03/12/us/college-...      1  \n",
       "1  https://www.nytimes.com/2019/03/12/us/felicity...      2  \n",
       "2  https://www.nytimes.com/2019/03/14/world/boein...      3  \n",
       "3  https://www.nytimes.com/2019/03/15/world/asia/...      4  \n",
       "4  https://www.nytimes.com/interactive/2019/03/11...      5  "
      ]
     },
     "execution_count": 6,
     "metadata": {},
     "output_type": "execute_result"
    }
   ],
   "source": [
    "#check out the \"most popular\" endpoint of the API\n",
    "\n",
    "resp = requests.get('https://api.nytimes.com/svc/mostpopular/v2/viewed/7.json?api-key=%s' %apikey)\n",
    "nyt_json = resp.json()\n",
    "nyt = json_normalize(nyt_json['results'])\n",
    "nyt.head()"
   ]
  },
  {
   "cell_type": "code",
   "execution_count": null,
   "metadata": {},
   "outputs": [],
   "source": []
  },
  {
   "cell_type": "code",
   "execution_count": 8,
   "metadata": {},
   "outputs": [],
   "source": [
    "#Headlines"
   ]
  },
  {
   "cell_type": "code",
   "execution_count": 4,
   "metadata": {},
   "outputs": [],
   "source": [
    "archive_df_og = archive"
   ]
  },
  {
   "cell_type": "code",
   "execution_count": 11,
   "metadata": {},
   "outputs": [],
   "source": [
    "lyrics = archive_df_og[\"headline.main\"]"
   ]
  },
  {
   "cell_type": "code",
   "execution_count": 12,
   "metadata": {},
   "outputs": [],
   "source": [
    "def train_markov_chain(lyrics):\n",
    "    \"\"\"\n",
    "    Args:\n",
    "      - lyrics: a list of strings, where each string represents\n",
    "                the lyrics of one song by an artist.\n",
    "    \n",
    "    Returns:\n",
    "      A dict that maps a tuple of 2 words (\"bigram\") to a list of\n",
    "      words that follow that bigram, representing the Markov\n",
    "      chain trained on the lyrics.\n",
    "    \"\"\"\n",
    "    chain = {(None, \"<START>\"): []}\n",
    "    for lyric in lyrics:\n",
    "        lyric = \"<START> \" + lyric + \" <END>\"\n",
    "        \n",
    "#         print(\"Song: \", lyric)\n",
    "#         break\n",
    "        words = str(lyric).split(\" \")\n",
    "        #for word in range(len(words)):\n",
    "        i=0\n",
    "        while words[i] != \"<END>\":\n",
    "            #print(\"word:\", words[i], \" number \", i, \" out of \", len(words))\n",
    "            if words[i] == \"<START>\":\n",
    "                chain[(None, words[i])].append(words[i+1])\n",
    "            chain.setdefault((words[i], words[i+1]), [])\n",
    "            if words[i+1] != \"<END>\":\n",
    "                chain[(words[i], words[i + 1])].append(words[i+2])\n",
    "            if words[i+1] == \"<END>\":\n",
    "                chain[(words[i], words[i + 1])].append(\"<END>\")\n",
    "            i += 1\n",
    "        if words[-1] == \"<END>\":\n",
    "            chain[(words[-2], words[-1])].append(None)\n",
    "            \n",
    "        \n",
    "    return chain"
   ]
  },
  {
   "cell_type": "code",
   "execution_count": 13,
   "metadata": {},
   "outputs": [],
   "source": [
    "import pickle\n",
    "pickle.dump(lyrics, open(\"lyrics.pkl\", \"wb\"))\n",
    "\n",
    "import pickle\n",
    "lyrics = pickle.load(open(\"lyrics.pkl\", \"rb\"))\n",
    "\n",
    "chain = train_markov_chain(lyrics)"
   ]
  },
  {
   "cell_type": "code",
   "execution_count": 14,
   "metadata": {},
   "outputs": [],
   "source": [
    "import random\n",
    "\n",
    "def generate_new_lyrics(chain):\n",
    "    \"\"\"\n",
    "    Args:\n",
    "      - chain: a dict representing the Markov chain,\n",
    "               such as one generated by generate_new_lyrics()\n",
    "    \n",
    "    Returns:\n",
    "      A string representing the randomly generated song.\n",
    "    \"\"\"\n",
    "    wordlist = []\n",
    "    wordlist.append(random.choice(chain[(None, \"<START>\")]))\n",
    "    wordlist.append(random.choice(chain[(\"<START>\", wordlist[-1])]))\n",
    "    for x in range(len(chain)):\n",
    "        #print(\"(wordlist[-2], wordlist[-1])= \", (wordlist[-2], wordlist[-1]))\n",
    "        wordlist.append(random.choice(chain[(wordlist[-2], wordlist[-1])]))\n",
    "        if wordlist[-1] == \"<END>\":\n",
    "            break\n",
    "\n",
    "    lyrics = \" \".join(wordlist[:-1])\n",
    "    return \"\\n\".join(lyrics.split(\"<N>\"))"
   ]
  },
  {
   "cell_type": "code",
   "execution_count": 15,
   "metadata": {},
   "outputs": [
    {
     "name": "stdout",
     "output_type": "stream",
     "text": [
      "Charles J. Hynes, Brooklyn D.A. in a Warplane\n"
     ]
    }
   ],
   "source": [
    "print(generate_new_lyrics(chain))"
   ]
  },
  {
   "cell_type": "code",
   "execution_count": 16,
   "metadata": {},
   "outputs": [
    {
     "data": {
      "text/plain": [
       "['Harold Bradley, a Nashville Studio Master, Is Dead at 95; Groundbreaking African-American Bishop',\n",
       " '‘Miss Bala’ Review: Gina Rodriguez Finds the Wrong Place at the Border Wall Donations After Fund-Raiser Falls Short',\n",
       " 'Britney Spears Announces ‘Indefinite Work Hiatus,’ Cancels Las Vegas Massacre: Sell the Gunman’s Weapons, or Destroy Them',\n",
       " 'I’m Prepared to Talk About the Trafficker Who Incriminated a Mexican President Peña Nieto Took $100 Million Bribe, Witness at El Chapo Trial: Kingpin Used Spyware to Obsessively Monitor His Wife and Mistress',\n",
       " '‘Broad City’ Is Ending. Here’s What We Saw at London Fashion Week Men’s',\n",
       " 'Las principales noticias del jueves',\n",
       " 'The Marvelous Ms. Elaine May',\n",
       " 'What Students Are Saying About: How to Get Preschoolers to Share',\n",
       " 'What Advocates of Legalizing Pot Don’t Want You to Know ',\n",
       " 'T.S.A. Agents Refuse to Work Day Is Every Day for This Collector']"
      ]
     },
     "execution_count": 16,
     "metadata": {},
     "output_type": "execute_result"
    }
   ],
   "source": [
    "headline_list = []\n",
    "for i in range(10):\n",
    "    headline_list.append(generate_new_lyrics(chain))\n",
    "    \n",
    "headline_list #these are just actual headlines, we need unigram"
   ]
  },
  {
   "cell_type": "code",
   "execution_count": 17,
   "metadata": {},
   "outputs": [],
   "source": [
    "#Unigram"
   ]
  },
  {
   "cell_type": "code",
   "execution_count": 18,
   "metadata": {},
   "outputs": [],
   "source": [
    "lyrics = archive_df_og[\"headline.main\"]"
   ]
  },
  {
   "cell_type": "code",
   "execution_count": 19,
   "metadata": {},
   "outputs": [
    {
     "data": {
      "text/plain": [
       "'Daryl Dragon, of the Captain and Tennille Pop Duo, Dies at 76'"
      ]
     },
     "execution_count": 19,
     "metadata": {},
     "output_type": "execute_result"
    }
   ],
   "source": [
    "lyrics[0]"
   ]
  },
  {
   "cell_type": "code",
   "execution_count": 20,
   "metadata": {},
   "outputs": [
    {
     "data": {
      "text/plain": [
       "0    9.134728\n",
       "dtype: float64"
      ]
     },
     "execution_count": 20,
     "metadata": {},
     "output_type": "execute_result"
    }
   ],
   "source": [
    "num_list = []\n",
    "for lyric in lyrics:\n",
    "    words = str(lyric).split(\" \")\n",
    "    num_list.append(len(words))\n",
    "    \n",
    "pd.DataFrame(num_list).mean() #average headline is between 9 and 10 words long"
   ]
  },
  {
   "cell_type": "code",
   "execution_count": 21,
   "metadata": {},
   "outputs": [],
   "source": [
    "def train_markov_chain(lyrics):\n",
    "    \"\"\"\n",
    "    Args:\n",
    "      - lyrics: a list of strings, where each string represents\n",
    "                the lyrics of one song by an artist.\n",
    "    \n",
    "    Returns:\n",
    "      A dict that maps a single word (\"unigram\") to a list of\n",
    "      words that follow that word, representing the Markov\n",
    "      chain trained on the lyrics.\n",
    "    \"\"\"\n",
    "    chain = {\"<START>\": []}\n",
    "    for lyric in lyrics:\n",
    "        lyric = \"<START> \" + lyric + \" <END>\"\n",
    "        #print(\"Song: \", lyric)\n",
    "        words = str(lyric).split(\" \")\n",
    "        for word in range(len(words)):\n",
    "            #print(\"word: \", word)\n",
    "            chain.setdefault(words[word], [])\n",
    "            if words[word] != \"<END>\":\n",
    "                #print(\"words[word]: \", words[word])\n",
    "                if words[word+1] != \"<END>\":\n",
    "                    chain[words[word]].append(words[word+1])\n",
    "                    #print(\"first\")\n",
    "                if words[word] == \"<START>\":\n",
    "                    #print(\"second\")\n",
    "                    if words[word + 1] == \"<NA>\":\n",
    "                        #print(\"third\")\n",
    "                        chain[words[word]].append(words[word+2])\n",
    "            if words[word] == \"<END>\":\n",
    "                #print(\"words[word]: \", words[word])\n",
    "                #print(\"fourth\")\n",
    "                chain[words[word-1]].append(\"<END>\")\n",
    "                #print(words[word-1])\n",
    "        \n",
    "    return chain"
   ]
  },
  {
   "cell_type": "code",
   "execution_count": 22,
   "metadata": {},
   "outputs": [],
   "source": [
    "import pickle\n",
    "lyrics = pickle.load(open(\"lyrics.pkl\", \"rb\"))\n",
    "\n",
    "chain = train_markov_chain(lyrics)"
   ]
  },
  {
   "cell_type": "code",
   "execution_count": 23,
   "metadata": {},
   "outputs": [],
   "source": [
    "import random\n",
    "\n",
    "def generate_new_lyrics(chain):\n",
    "    \"\"\"\n",
    "    Args:\n",
    "      - chain: a dict representing the Markov chain,\n",
    "               such as one generated by generate_new_lyrics()\n",
    "    \n",
    "    Returns:\n",
    "      A string representing the randomly generated song.\n",
    "    \"\"\"\n",
    "    \n",
    "    \n",
    "    words = []\n",
    "    words.append(random.choice(chain[\"<START>\"]))\n",
    "    for x in range(len(chain)):\n",
    "        #print(words)\n",
    "        rand = random.choice(chain[words[-1]])\n",
    "        if rand == \"<END>\":\n",
    "            break\n",
    "        words.append(rand)\n",
    "        if x > 10: #limit to 10 words per headline, about average\n",
    "            break\n",
    "\n",
    "    lyrics = \" \".join(words[:-1])\n",
    "    return \"\\n\".join(lyrics.split(\"<N>\"))"
   ]
  },
  {
   "cell_type": "code",
   "execution_count": 24,
   "metadata": {},
   "outputs": [
    {
     "data": {
      "text/plain": [
       "['At El Chapo’s',\n",
       " 'Indian Family Is There Is Legalizing Pot Don’t Kiss Your Wednesday Evening',\n",
       " 'Hundreds Still Topic A Breakup Leaves His Juliet. Their',\n",
       " 'What Happened in Radiant',\n",
       " 'The Games Animals Play Harvey Weinstein-Like Character ... Stony Brook, N.Y. Fires',\n",
       " 'Haley Joel Osment Plays Roger Stone’s Statement Responding to Sell Everything. New',\n",
       " 'Hands-On',\n",
       " 'Trump Administration Freezes Raises for a Gay Brazilian Lawmaker Floats Bill James',\n",
       " 'What’s',\n",
       " '11 Indicted in a Nurse. The Fleecing of Sexual Assault on Our']"
      ]
     },
     "execution_count": 24,
     "metadata": {},
     "output_type": "execute_result"
    }
   ],
   "source": [
    "headline_list = []\n",
    "for i in range(10):\n",
    "    headline_list.append(generate_new_lyrics(chain))\n",
    "    \n",
    "headline_list "
   ]
  },
  {
   "cell_type": "code",
   "execution_count": 25,
   "metadata": {},
   "outputs": [],
   "source": [
    "#Florida Man "
   ]
  },
  {
   "cell_type": "code",
   "execution_count": 29,
   "metadata": {},
   "outputs": [],
   "source": [
    "offset_list = [0,20,40,60,80,100,120,140,160] #,180] #limited to 10 calls at once\n",
    "article_list = []\n",
    "for i in offset_list:\n",
    "    resp = requests.get(\"https://api.nytimes.com/svc/search/v2/articlesearch.json?fq=headline:('florida')&offset=%d&api-key=%s\"% (i, apikey))\n",
    "    fla = resp.json()\n",
    "    article_list.append(json_normalize(fla[\"response\"][\"docs\"]))\n",
    "    time.sleep(0.5)\n",
    "\n",
    "#attempt to get more than 10 api calls\n",
    "# time.sleep(5)\n",
    "# offset_list2 = [200,220,240,260,280,300,320,340,360,380]\n",
    "# for j in offset_list2:\n",
    "#     resp = requests.get(\"https://api.nytimes.com/svc/search/v2/articlesearch.json?fq=headline:('florida')&offset=%d&api-key=%s\"% (i, apikey))\n",
    "#     fla = resp.json()\n",
    "#     article_list.append(json_normalize(fla[\"response\"][\"docs\"]))\n",
    "#     time.sleep(0.5)\n",
    "    \n",
    "florida_articles = pd.concat(article_list, ignore_index=True)"
   ]
  },
  {
   "cell_type": "code",
   "execution_count": 31,
   "metadata": {},
   "outputs": [
    {
     "data": {
      "text/plain": [
       "90"
      ]
     },
     "execution_count": 31,
     "metadata": {},
     "output_type": "execute_result"
    }
   ],
   "source": [
    "len(florida_articles)"
   ]
  },
  {
   "cell_type": "code",
   "execution_count": 32,
   "metadata": {},
   "outputs": [],
   "source": [
    "lyrics = florida_articles[\"headline.main\"]"
   ]
  },
  {
   "cell_type": "code",
   "execution_count": 33,
   "metadata": {},
   "outputs": [],
   "source": [
    "def train_markov_chain(lyrics):\n",
    "    \"\"\"\n",
    "    Args:\n",
    "      - lyrics: a list of strings, where each string represents\n",
    "                the lyrics of one song by an artist.\n",
    "    \n",
    "    Returns:\n",
    "      A dict that maps a tuple of 2 words (\"bigram\") to a list of\n",
    "      words that follow that bigram, representing the Markov\n",
    "      chain trained on the lyrics.\n",
    "    \"\"\"\n",
    "    chain = {(None, \"<START>\"): []}\n",
    "    for lyric in lyrics:\n",
    "        lyric = \"<START> \" + lyric + \" <END>\"\n",
    "        \n",
    "#         print(\"Song: \", lyric)\n",
    "#         break\n",
    "        words = str(lyric).split(\" \")\n",
    "        #for word in range(len(words)):\n",
    "        i=0\n",
    "        while words[i] != \"<END>\":\n",
    "            #print(\"word:\", words[i], \" number \", i, \" out of \", len(words))\n",
    "            if words[i] == \"<START>\":\n",
    "                chain[(None, words[i])].append(words[i+1])\n",
    "            chain.setdefault((words[i], words[i+1]), [])\n",
    "            if words[i+1] != \"<END>\":\n",
    "                chain[(words[i], words[i + 1])].append(words[i+2])\n",
    "            if words[i+1] == \"<END>\":\n",
    "                chain[(words[i], words[i + 1])].append(\"<END>\")\n",
    "            i += 1\n",
    "        if words[-1] == \"<END>\":\n",
    "            chain[(words[-2], words[-1])].append(None)\n",
    "            \n",
    "        \n",
    "    return chain"
   ]
  },
  {
   "cell_type": "code",
   "execution_count": 34,
   "metadata": {},
   "outputs": [],
   "source": [
    "import pickle\n",
    "pickle.dump(lyrics, open(\"lyrics.pkl\", \"wb\"))\n",
    "\n",
    "import pickle\n",
    "lyrics = pickle.load(open(\"lyrics.pkl\", \"rb\"))\n",
    "\n",
    "chain = train_markov_chain(lyrics)"
   ]
  },
  {
   "cell_type": "code",
   "execution_count": 35,
   "metadata": {},
   "outputs": [],
   "source": [
    "import random\n",
    "\n",
    "def generate_new_lyrics(chain):\n",
    "    \"\"\"\n",
    "    Args:\n",
    "      - chain: a dict representing the Markov chain,\n",
    "               such as one generated by generate_new_lyrics()\n",
    "    \n",
    "    Returns:\n",
    "      A string representing the randomly generated song.\n",
    "    \"\"\"\n",
    "    wordlist = []\n",
    "    wordlist.append(random.choice(chain[(None, \"<START>\")]))\n",
    "    wordlist.append(random.choice(chain[(\"<START>\", wordlist[-1])]))\n",
    "    for x in range(len(chain)):\n",
    "        #print(\"(wordlist[-2], wordlist[-1])= \", (wordlist[-2], wordlist[-1]))\n",
    "        wordlist.append(random.choice(chain[(wordlist[-2], wordlist[-1])]))\n",
    "        if wordlist[-1] == \"<END>\":\n",
    "            break\n",
    "\n",
    "    lyrics = \" \".join(wordlist[:-1])\n",
    "    return \"\\n\".join(lyrics.split(\"<N>\"))"
   ]
  },
  {
   "cell_type": "code",
   "execution_count": 36,
   "metadata": {},
   "outputs": [],
   "source": [
    "#print(chain[(\"Florida\", \"man\")]) #no Florida man headlines :/"
   ]
  },
  {
   "cell_type": "code",
   "execution_count": 37,
   "metadata": {},
   "outputs": [
    {
     "data": {
      "text/plain": [
       "['FLORIDA PARKS; Recreation Sites Abound In the Sunshine State Best Season By Shape and Color Reappearing River Crowded in Summer',\n",
       " 'Vigil Begun as Florida Coed Is Punished for Posing Nude',\n",
       " 'Chilly Wind, Warm Words Welcome Mets in Florida; 27 METS ARRIVE AT FLORIDA CAMP',\n",
       " \"Housewife Learning to Call 'Em Out at Home; Mrs. Gera Studies Umpire's Art at Florida School\",\n",
       " 'Florida and Georgia Golfers Advance in Senior Tourney',\n",
       " 'Florida and Georgia Golfers Advance in Senior Tourney',\n",
       " 'Two Musicians Are Killed In Florida Highway Crash',\n",
       " 'Florida and Georgia Golfers Advance in Senior Tourney',\n",
       " 'Vigil Begun as Florida Coed Is Punished for Posing Nude',\n",
       " 'Chilly Wind, Warm Words Welcome Mets in Florida; 27 METS ARRIVE AT FLORIDA CAMP']"
      ]
     },
     "execution_count": 37,
     "metadata": {},
     "output_type": "execute_result"
    }
   ],
   "source": [
    "headline_list = []\n",
    "for i in range(10):\n",
    "    headline_list.append(generate_new_lyrics(chain))\n",
    "    \n",
    "headline_list "
   ]
  },
  {
   "cell_type": "code",
   "execution_count": 38,
   "metadata": {},
   "outputs": [],
   "source": [
    "#unigram"
   ]
  },
  {
   "cell_type": "code",
   "execution_count": 39,
   "metadata": {},
   "outputs": [],
   "source": [
    "def train_markov_chain(lyrics):\n",
    "    \"\"\"\n",
    "    Args:\n",
    "      - lyrics: a list of strings, where each string represents\n",
    "                the lyrics of one song by an artist.\n",
    "    \n",
    "    Returns:\n",
    "      A dict that maps a single word (\"unigram\") to a list of\n",
    "      words that follow that word, representing the Markov\n",
    "      chain trained on the lyrics.\n",
    "    \"\"\"\n",
    "    chain = {\"<START>\": []}\n",
    "    for lyric in lyrics:\n",
    "        lyric = \"<START> \" + lyric + \" <END>\"\n",
    "        #print(\"Song: \", lyric)\n",
    "        words = str(lyric).split(\" \")\n",
    "        for word in range(len(words)):\n",
    "            #print(\"word: \", word)\n",
    "            chain.setdefault(words[word], [])\n",
    "            if words[word] != \"<END>\":\n",
    "                #print(\"words[word]: \", words[word])\n",
    "                if words[word+1] != \"<END>\":\n",
    "                    chain[words[word]].append(words[word+1])\n",
    "                    #print(\"first\")\n",
    "                if words[word] == \"<START>\":\n",
    "                    #print(\"second\")\n",
    "                    if words[word + 1] == \"<NA>\":\n",
    "                        #print(\"third\")\n",
    "                        chain[words[word]].append(words[word+2])\n",
    "            if words[word] == \"<END>\":\n",
    "                #print(\"words[word]: \", words[word])\n",
    "                #print(\"fourth\")\n",
    "                chain[words[word-1]].append(\"<END>\")\n",
    "                #print(words[word-1])\n",
    "        \n",
    "    return chain"
   ]
  },
  {
   "cell_type": "code",
   "execution_count": 40,
   "metadata": {},
   "outputs": [],
   "source": [
    "import pickle\n",
    "lyrics = pickle.load(open(\"lyrics.pkl\", \"rb\"))\n",
    "\n",
    "chain = train_markov_chain(lyrics)"
   ]
  },
  {
   "cell_type": "code",
   "execution_count": 41,
   "metadata": {},
   "outputs": [],
   "source": [
    "import random\n",
    "\n",
    "def generate_new_lyrics(chain):\n",
    "    \"\"\"\n",
    "    Args:\n",
    "      - chain: a dict representing the Markov chain,\n",
    "               such as one generated by generate_new_lyrics()\n",
    "    \n",
    "    Returns:\n",
    "      A string representing the randomly generated song.\n",
    "    \"\"\"\n",
    "    \n",
    "    \n",
    "    words = []\n",
    "    words.append(random.choice(chain[\"<START>\"]))\n",
    "    for x in range(len(chain)):\n",
    "        #print(words)\n",
    "        rand = random.choice(chain[words[-1]])\n",
    "        if rand == \"<END>\":\n",
    "            break\n",
    "        words.append(rand)\n",
    "        if x > 10: #limit to 10 words per headline, about average\n",
    "            break\n",
    "\n",
    "    lyrics = \" \".join(words[:-1])\n",
    "    return \"\\n\".join(lyrics.split(\"<N>\"))"
   ]
  },
  {
   "cell_type": "code",
   "execution_count": 42,
   "metadata": {},
   "outputs": [
    {
     "name": "stdout",
     "output_type": "stream",
     "text": [
      "['Coed', 'Murder', 'Area', '<END>', '<END>', 'School', 'Highway', 'and', 'Coed', 'Murder', 'Area', '<END>', '<END>', 'School', 'Highway', 'and', 'Coed', 'Murder', 'Area', '<END>', '<END>', 'School', 'Highway', 'and', 'Coed', 'Murder', 'Area', '<END>', '<END>', 'School', 'Highway', 'and', 'Coed', 'Murder', 'Area', '<END>', '<END>', 'School', 'Highway', 'and', 'Coed', 'Murder', 'Area', '<END>', '<END>', 'School', 'Highway', 'and', 'Coed', 'Murder', 'Area', '<END>', '<END>', 'School', 'Highway', 'and', 'Coed', 'Murder', 'Area', '<END>', '<END>', 'School', 'Highway', 'and', 'Coed', 'Murder', 'Area', '<END>', '<END>', 'School', 'Highway', 'and']\n"
     ]
    }
   ],
   "source": [
    "print(chain[(\"Florida\")]) #no Florida man headlines :/"
   ]
  },
  {
   "cell_type": "code",
   "execution_count": 43,
   "metadata": {},
   "outputs": [
    {
     "data": {
      "text/plain": [
       "['Jury Deadlock in',\n",
       " 'Schad Triumphs in',\n",
       " 'Two Musicians Are Killed In the Sunshine State Best Season By Shape',\n",
       " 'Jury Deadlock in Florida; 27 METS ARRIVE AT FLORIDA',\n",
       " 'Vigil Begun as Florida Highway',\n",
       " 'Vigil Begun as Florida Murder',\n",
       " \"Housewife Learning to Call 'Em Out at Home; Mrs. Gera Studies Umpire's\",\n",
       " 'Two Musicians Are Killed In the Sunshine State Best Season By Shape',\n",
       " 'Housewife Learning to Most of Florida Highway',\n",
       " 'Two Musicians Are Killed In Florida Coed Is Punished for Posing']"
      ]
     },
     "execution_count": 43,
     "metadata": {},
     "output_type": "execute_result"
    }
   ],
   "source": [
    "headline_list = []\n",
    "for i in range(10):\n",
    "    headline_list.append(generate_new_lyrics(chain))\n",
    "    \n",
    "headline_list "
   ]
  },
  {
   "cell_type": "code",
   "execution_count": null,
   "metadata": {},
   "outputs": [],
   "source": []
  },
  {
   "cell_type": "code",
   "execution_count": null,
   "metadata": {},
   "outputs": [],
   "source": []
  },
  {
   "cell_type": "code",
   "execution_count": null,
   "metadata": {},
   "outputs": [],
   "source": []
  }
 ],
 "metadata": {
  "kernelspec": {
   "display_name": "Python 3",
   "language": "python",
   "name": "python3"
  },
  "language_info": {
   "codemirror_mode": {
    "name": "ipython",
    "version": 3
   },
   "file_extension": ".py",
   "mimetype": "text/x-python",
   "name": "python",
   "nbconvert_exporter": "python",
   "pygments_lexer": "ipython3",
   "version": "3.6.8"
  }
 },
 "nbformat": 4,
 "nbformat_minor": 2
}
