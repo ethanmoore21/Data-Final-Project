{
 "cells": [
  {
   "cell_type": "markdown",
   "metadata": {},
   "source": [
    "# Data Analysis"
   ]
  },
  {
   "cell_type": "markdown",
   "metadata": {},
   "source": [
    "The New York Times has been an essential American journalistic institution for more than a century, known for its objective reporting and ethical practices. However, recently that long-held credibility has been called into question by none other than the President of the United States (https://twitter.com/realDonaldTrump/status/1098218016255414272). Although a large part of this situation is purely political, it is interesting to think about the balance NYT is trying to maintain between objective reporting, informing the public, serving its local readership, and selling papers.\n",
    "\n",
    "We are interested in how the New York Times has represented various states in its articles recently and whether we can find any patterns that support or discredit the idea that NYT is representing certain geographic groups of people differently than others."
   ]
  },
  {
   "cell_type": "markdown",
   "metadata": {},
   "source": [
    "We began to investigate this question by using the NYT API's \"article search\" endpoint to acquire a data frame of every piece of work published by NYT in January of 2019, the most recent data available."
   ]
  },
  {
   "cell_type": "markdown",
   "metadata": {},
   "source": [
    "**QUANTITATIVE ANALYSES**"
   ]
  },
  {
   "cell_type": "code",
   "execution_count": 1,
   "metadata": {},
   "outputs": [],
   "source": [
    "#imports\n",
    "import pandas as pd\n",
    "import requests\n",
    "from pandas.io.json import json_normalize\n",
    "import time\n",
    "\n",
    "#apikey = 'OOFXXAG7cuVc2q9C0EekCNqWm4lzERfm'"
   ]
  },
  {
   "cell_type": "code",
   "execution_count": 2,
   "metadata": {},
   "outputs": [],
   "source": [
    "archive = pd.read_csv(\"archive.csv\")"
   ]
  },
  {
   "cell_type": "code",
   "execution_count": 3,
   "metadata": {},
   "outputs": [],
   "source": [
    "df = pd.DataFrame()\n",
    "state_list = [\"Alabama\",\"Alaska\",\"Arizona\",\"Arkansas\",\"California\",\"Colorado\",\n",
    "  \"Connecticut\",\"Delaware\",\"Florida\",\"Georgia\",\"Hawaii\",\"Idaho\",\"Illinois\",\n",
    "  \"Indiana\",\"Iowa\",\"Kansas\",\"Kentucky\",\"Louisiana\",\"Maine\",\"Maryland\",\n",
    "  \"Massachusetts\",\"Michigan\",\"Minnesota\",\"Mississippi\",\"Missouri\",\"Montana\",\n",
    "  \"Nebraska\",\"Nevada\",\"New Hampshire\",\"New Jersey\",\"New Mexico\",\"New York\",\n",
    "  \"North Carolina\",\"North Dakota\",\"Ohio\",\"Oklahoma\",\"Oregon\",\"Pennsylvania\",\n",
    "  \"Rhode Island\",\"South Carolina\",\"South Dakota\",\"Tennessee\",\"Texas\",\"Utah\",\n",
    "  \"Vermont\",\"Virginia\",\"Washington\",\"West Virginia\",\"Wisconsin\",\"Wyoming\"]\n",
    "df[\"state\"] = state_list\n",
    "count_list = []\n",
    "percent = []\n",
    "state_counter = 0\n",
    "total_counter = 0\n",
    "\n",
    "for state in state_list:\n",
    "    for headline in archive[\"headline.main\"]:\n",
    "        if state.lower() in headline.lower():\n",
    "            state_counter += 1\n",
    "            total_counter += 1\n",
    "    count_list.append(state_counter)\n",
    "    #percent.append(state_counter / len(archive_df_og))\n",
    "    state_counter = 0\n",
    "    \n",
    "df[\"count\"] = count_list\n",
    "#df[\"percent\"] = percent"
   ]
  },
  {
   "cell_type": "code",
   "execution_count": 4,
   "metadata": {},
   "outputs": [],
   "source": [
    "df[\"percent\"] = df[\"count\"] / total_counter"
   ]
  },
  {
   "cell_type": "code",
   "execution_count": 5,
   "metadata": {},
   "outputs": [
    {
     "data": {
      "text/plain": [
       "<matplotlib.axes._subplots.AxesSubplot at 0x7fdfebf3f4a8>"
      ]
     },
     "execution_count": 5,
     "metadata": {},
     "output_type": "execute_result"
    }
   ],
   "source": [
    "df.set_index(\"state\")[\"count\"].sort_values(ascending = False)[:10].plot.bar(\n",
    "    title = \"Number of Mentions in NYT Headlines, January 2019\")"
   ]
  },
  {
   "cell_type": "markdown",
   "metadata": {},
   "source": [
    "This graph shows that New York is state that appears most often in NYT headlines, which makes lots of sense. But there doesn't seem to be much of a pattern with the other common states. "
   ]
  },
  {
   "cell_type": "markdown",
   "metadata": {},
   "source": [
    "**Note:** At this point, it was our aspiration to produce a map of relative frequency of mentions for all 50 US states and juxtapose that with a graph of 2016 Presidential Election results. The following code is our attempt at making the first map, but after significant debugging efforts, we could not find the problem. Please skip to the **\"Election Data\"** header."
   ]
  },
  {
   "cell_type": "code",
   "execution_count": 6,
   "metadata": {},
   "outputs": [],
   "source": [
    "import matplotlib.pyplot as plt\n",
    "%matplotlib inline\n",
    "\n",
    "import cartopy.crs as ccrs\n",
    "from cartopy.io.shapereader import Reader\n",
    "from cartopy.feature import ShapelyFeature\n",
    "\n",
    "fname = \"cb_2017_us_state_5m/cb_2017_us_state_5m\"\n",
    "\n",
    "shp = Reader(fname)"
   ]
  },
  {
   "cell_type": "code",
   "execution_count": 7,
   "metadata": {},
   "outputs": [],
   "source": [
    "shp_df = pd.DataFrame(\n",
    "    [record.attributes for record in shp.records()]\n",
    ")"
   ]
  },
  {
   "cell_type": "code",
   "execution_count": 8,
   "metadata": {},
   "outputs": [],
   "source": [
    "combined_df = df.merge(shp_df, left_on=\"state\", right_on=\"NAME\", how=\"right\")\n",
    "combined_df = combined_df[:50]"
   ]
  },
  {
   "cell_type": "code",
   "execution_count": 9,
   "metadata": {},
   "outputs": [
    {
     "name": "stderr",
     "output_type": "stream",
     "text": [
      "/opt/conda/lib/python3.6/site-packages/numpy/core/numeric.py:301: FutureWarning: in the future, full(93, -30) will return an array of dtype('int64')\n",
      "  format(shape, fill_value, array(fill_value).dtype), FutureWarning)\n"
     ]
    },
    {
     "data": {
      "image/png": "[encoded data removed]",
      "text/plain": [
       "<Figure size 432x288 with 1 Axes>"
      ]
     },
     "metadata": {
      "needs_background": "light"
     },
     "output_type": "display_data"
    }
   ],
   "source": [
    "ax = plt.axes(\n",
    "    projection=ccrs.LambertConformal(\n",
    "        central_latitude=39,\n",
    "        central_longitude=-96,\n",
    "        standard_parallels=(33, 45)\n",
    "    )\n",
    ")\n",
    "ax.set_extent([-125, -66.5, 20, 50])\n",
    "\n",
    "# define a normalizer and a color map\n",
    "import matplotlib as mpl\n",
    "norm = mpl.colors.Normalize(vmin=combined_df[\"percent\"].min(), \n",
    "                            vmax=combined_df[\"percent\"].max())\n",
    "cmap = plt.cm.RdBu\n",
    "\n",
    "# plot the geometries with a facecolor that depends on per_dem\n",
    "for geometry, (_, row) in zip(shp.geometries(), combined_df.iterrows()):\n",
    "    if ~pd.isnull(row[\"percent\"]):\n",
    "        ax.add_geometries([geometry],\n",
    "                          ccrs.PlateCarree(), #edgecolor = \"black\",\n",
    "                          facecolor= cmap(norm(row[\"percent\"])))"
   ]
  },
  {
   "cell_type": "markdown",
   "metadata": {},
   "source": [
    "**Election Data**"
   ]
  },
  {
   "cell_type": "markdown",
   "metadata": {},
   "source": [
    "Most of the objection with NYT has been political. The newspaper has often been accused of being left-leaning. If this were the case, we might expect more mentions of states that voted against Donald Trump in the most recent election. "
   ]
  },
  {
   "cell_type": "markdown",
   "metadata": {},
   "source": [
    "To see if this is the case, we merged our current data frame with some information about how each state voted in the 2016 election."
   ]
  },
  {
   "cell_type": "code",
   "execution_count": 10,
   "metadata": {},
   "outputs": [],
   "source": [
    "election = pd.read_csv(\"election_bool.csv\") #this came from the website:\n",
    "#\"https://www.dailykos.com/stories/2016/11/25/1601042/\n",
    "#-Nerd-Alert-This-spreadsheet-contains-every-presidential-election-by-state-from-1828-to-2016?\""
   ]
  },
  {
   "cell_type": "code",
   "execution_count": 11,
   "metadata": {},
   "outputs": [],
   "source": [
    "election = election.iloc[:, 1:]"
   ]
  },
  {
   "cell_type": "code",
   "execution_count": 12,
   "metadata": {},
   "outputs": [
    {
     "data": {
      "text/html": [
       "<div>\n",
       "<style scoped>\n",
       "    .dataframe tbody tr th:only-of-type {\n",
       "        vertical-align: middle;\n",
       "    }\n",
       "\n",
       "    .dataframe tbody tr th {\n",
       "        vertical-align: top;\n",
       "    }\n",
       "\n",
       "    .dataframe thead th {\n",
       "        text-align: right;\n",
       "    }\n",
       "</style>\n",
       "<table border=\"1\" class=\"dataframe\">\n",
       "  <thead>\n",
       "    <tr style=\"text-align: right;\">\n",
       "      <th></th>\n",
       "      <th>State</th>\n",
       "      <th>Dem%</th>\n",
       "      <th>Rep%</th>\n",
       "      <th>isDem</th>\n",
       "    </tr>\n",
       "  </thead>\n",
       "  <tbody>\n",
       "    <tr>\n",
       "      <th>0</th>\n",
       "      <td>Alabama</td>\n",
       "      <td>35.6</td>\n",
       "      <td>64.4</td>\n",
       "      <td>False</td>\n",
       "    </tr>\n",
       "    <tr>\n",
       "      <th>1</th>\n",
       "      <td>Alaska</td>\n",
       "      <td>41.6</td>\n",
       "      <td>58.4</td>\n",
       "      <td>False</td>\n",
       "    </tr>\n",
       "    <tr>\n",
       "      <th>2</th>\n",
       "      <td>Arizona</td>\n",
       "      <td>48.1</td>\n",
       "      <td>51.9</td>\n",
       "      <td>False</td>\n",
       "    </tr>\n",
       "    <tr>\n",
       "      <th>3</th>\n",
       "      <td>Arkansas</td>\n",
       "      <td>35.7</td>\n",
       "      <td>64.3</td>\n",
       "      <td>False</td>\n",
       "    </tr>\n",
       "    <tr>\n",
       "      <th>4</th>\n",
       "      <td>California</td>\n",
       "      <td>66.1</td>\n",
       "      <td>33.9</td>\n",
       "      <td>True</td>\n",
       "    </tr>\n",
       "  </tbody>\n",
       "</table>\n",
       "</div>"
      ],
      "text/plain": [
       "        State  Dem%  Rep%  isDem\n",
       "0     Alabama  35.6  64.4  False\n",
       "1      Alaska  41.6  58.4  False\n",
       "2     Arizona  48.1  51.9  False\n",
       "3    Arkansas  35.7  64.3  False\n",
       "4  California  66.1  33.9   True"
      ]
     },
     "execution_count": 12,
     "metadata": {},
     "output_type": "execute_result"
    }
   ],
   "source": [
    "election.head()"
   ]
  },
  {
   "cell_type": "code",
   "execution_count": 13,
   "metadata": {},
   "outputs": [],
   "source": [
    "states = df.merge(election, left_on = \"state\", right_on = \"State\", how = \"outer\")"
   ]
  },
  {
   "cell_type": "markdown",
   "metadata": {},
   "source": [
    "Of all of the mentions of states in NYT headlines in January, how many were mentions of liberal-voting states?"
   ]
  },
  {
   "cell_type": "code",
   "execution_count": 14,
   "metadata": {},
   "outputs": [
    {
     "data": {
      "text/plain": [
       "isDem\n",
       "False    0.317949\n",
       "True     0.682051\n",
       "Name: count, dtype: float64"
      ]
     },
     "execution_count": 14,
     "metadata": {},
     "output_type": "execute_result"
    }
   ],
   "source": [
    "states.groupby(\"isDem\")[\"count\"].sum() / total_counter"
   ]
  },
  {
   "cell_type": "markdown",
   "metadata": {},
   "source": [
    "Almost 70%! This seems like potential evidence of something fishy going on at NYT...until we account for the fact that New York was a liberal-voting state. What if take out all of the mentions of New York in headlines and just investigate the distribution of other states?"
   ]
  },
  {
   "cell_type": "code",
   "execution_count": 15,
   "metadata": {},
   "outputs": [
    {
     "data": {
      "text/plain": [
       "isDem\n",
       "False    0.317949\n",
       "True     0.282051\n",
       "Name: count, dtype: float64"
      ]
     },
     "execution_count": 15,
     "metadata": {},
     "output_type": "execute_result"
    }
   ],
   "source": [
    "states.drop(states[states[\"State\"] == \"New York\"].index, \n",
    "            axis = 0).groupby(\"isDem\")[\"count\"].sum() / total_counter"
   ]
  },
  {
   "cell_type": "markdown",
   "metadata": {},
   "source": [
    "Well, it's a lot more even. In fact, NYT mentioned conservative-voting states even _more!_ That doesn't necessarily mean that the headlines were positive, but neither party here can claim that they weren't represented (expect for those in the 16 states that didn't get a January mention at all)."
   ]
  },
  {
   "cell_type": "markdown",
   "metadata": {},
   "source": [
    "Another way to analyze the relationship between a state's political affiliation and its being mentioned by the NYT is correlation. In our data, there does exist a positive association between percentage of votes for Hillary Clinton in 2016 and number of mentions in NYT headlines. This relationship remains unchanged when the outlying New York is removed as it was earlier."
   ]
  },
  {
   "cell_type": "code",
   "execution_count": 16,
   "metadata": {},
   "outputs": [
    {
     "data": {
      "text/html": [
       "<div>\n",
       "<style scoped>\n",
       "    .dataframe tbody tr th:only-of-type {\n",
       "        vertical-align: middle;\n",
       "    }\n",
       "\n",
       "    .dataframe tbody tr th {\n",
       "        vertical-align: top;\n",
       "    }\n",
       "\n",
       "    .dataframe thead th {\n",
       "        text-align: right;\n",
       "    }\n",
       "</style>\n",
       "<table border=\"1\" class=\"dataframe\">\n",
       "  <thead>\n",
       "    <tr style=\"text-align: right;\">\n",
       "      <th></th>\n",
       "      <th>count</th>\n",
       "      <th>Dem%</th>\n",
       "    </tr>\n",
       "  </thead>\n",
       "  <tbody>\n",
       "    <tr>\n",
       "      <th>count</th>\n",
       "      <td>1.000000</td>\n",
       "      <td>0.269653</td>\n",
       "    </tr>\n",
       "    <tr>\n",
       "      <th>Dem%</th>\n",
       "      <td>0.269653</td>\n",
       "      <td>1.000000</td>\n",
       "    </tr>\n",
       "  </tbody>\n",
       "</table>\n",
       "</div>"
      ],
      "text/plain": [
       "          count      Dem%\n",
       "count  1.000000  0.269653\n",
       "Dem%   0.269653  1.000000"
      ]
     },
     "execution_count": 16,
     "metadata": {},
     "output_type": "execute_result"
    }
   ],
   "source": [
    "states[[\"count\", \"Dem%\"]].corr()"
   ]
  },
  {
   "cell_type": "code",
   "execution_count": 17,
   "metadata": {},
   "outputs": [
    {
     "data": {
      "text/html": [
       "<div>\n",
       "<style scoped>\n",
       "    .dataframe tbody tr th:only-of-type {\n",
       "        vertical-align: middle;\n",
       "    }\n",
       "\n",
       "    .dataframe tbody tr th {\n",
       "        vertical-align: top;\n",
       "    }\n",
       "\n",
       "    .dataframe thead th {\n",
       "        text-align: right;\n",
       "    }\n",
       "</style>\n",
       "<table border=\"1\" class=\"dataframe\">\n",
       "  <thead>\n",
       "    <tr style=\"text-align: right;\">\n",
       "      <th></th>\n",
       "      <th>count</th>\n",
       "      <th>Dem%</th>\n",
       "    </tr>\n",
       "  </thead>\n",
       "  <tbody>\n",
       "    <tr>\n",
       "      <th>count</th>\n",
       "      <td>1.000000</td>\n",
       "      <td>0.272879</td>\n",
       "    </tr>\n",
       "    <tr>\n",
       "      <th>Dem%</th>\n",
       "      <td>0.272879</td>\n",
       "      <td>1.000000</td>\n",
       "    </tr>\n",
       "  </tbody>\n",
       "</table>\n",
       "</div>"
      ],
      "text/plain": [
       "          count      Dem%\n",
       "count  1.000000  0.272879\n",
       "Dem%   0.272879  1.000000"
      ]
     },
     "execution_count": 17,
     "metadata": {},
     "output_type": "execute_result"
    }
   ],
   "source": [
    "states.drop(states[states[\"State\"] == \"New York\"].index, axis = 0)[[\"count\", \"Dem%\"]].corr()"
   ]
  },
  {
   "cell_type": "markdown",
   "metadata": {},
   "source": [
    "**TEXTUAL ANALYSES**"
   ]
  },
  {
   "cell_type": "markdown",
   "metadata": {},
   "source": [
    "Is there anything more we can learn about this situation with text data? "
   ]
  },
  {
   "cell_type": "markdown",
   "metadata": {},
   "source": [
    "_Additional cleaning. Skip to \"Common Words\" header for results._"
   ]
  },
  {
   "cell_type": "code",
   "execution_count": 18,
   "metadata": {},
   "outputs": [],
   "source": [
    "head_df = pd.read_csv(\"state_headlines_for_model.csv\")"
   ]
  },
  {
   "cell_type": "code",
   "execution_count": 19,
   "metadata": {},
   "outputs": [
    {
     "data": {
      "text/plain": [
       "500"
      ]
     },
     "execution_count": 19,
     "metadata": {},
     "output_type": "execute_result"
    }
   ],
   "source": [
    "len(head_df)"
   ]
  },
  {
   "cell_type": "code",
   "execution_count": 20,
   "metadata": {},
   "outputs": [],
   "source": [
    "#a little more cleaning was needed\n",
    "from collections import Counter\n",
    "\n",
    "def IsInteger(s):\n",
    "    try: \n",
    "        int(s)\n",
    "        return True\n",
    "    except ValueError:\n",
    "        return False\n",
    "\n",
    "splits_co = head_df[head_df[\"state\"] == \"Colorado\"][\"head_split\"].str.split(\" \")\n",
    "splits_wa = head_df[head_df[\"state\"] == \"Washington\"][\"head_split\"].str.split(\" \")\n",
    "splits_ny = head_df[head_df[\"state\"] == \"New York\"][\"head_split\"].str.split(\" \")\n",
    "splits_ms = head_df[head_df[\"state\"] == \"Mississippi\"][\"head_split\"].str.split(\" \")\n",
    "splits_tx = head_df[head_df[\"state\"] == \"Texas\"][\"head_split\"].str.split(\" \")"
   ]
  },
  {
   "cell_type": "code",
   "execution_count": 21,
   "metadata": {},
   "outputs": [],
   "source": [
    "all_words_co = []\n",
    "all_words_wa = []\n",
    "all_words_ny = []\n",
    "all_words_ms = []\n",
    "all_words_tx = []\n",
    "\n",
    "for i in range(len(splits_co)):\n",
    "    all_words_co += splits_co[i]\n",
    "    \n",
    "for j in range(200, 200+len(splits_wa)):\n",
    "    all_words_wa += splits_wa[j]\n",
    "    \n",
    "for k in range(100, 100+len(splits_ny)):\n",
    "    all_words_ny += splits_ny[k]\n",
    "    \n",
    "for l in range(300, 300+len(splits_ms)):\n",
    "    all_words_ms += splits_ms[l]\n",
    "    \n",
    "for m in range(400, 400+len(splits_tx)):\n",
    "    all_words_tx += splits_tx[m]"
   ]
  },
  {
   "cell_type": "code",
   "execution_count": 22,
   "metadata": {},
   "outputs": [],
   "source": [
    "word_bag_co = pd.Series([all_words_co]).apply(Counter)[0]\n",
    "word_bag_wa = pd.Series([all_words_wa]).apply(Counter)[0]\n",
    "word_bag_ny = pd.Series([all_words_ny]).apply(Counter)[0]\n",
    "word_bag_ms = pd.Series([all_words_ms]).apply(Counter)[0]\n",
    "word_bag_tx = pd.Series([all_words_tx]).apply(Counter)[0]\n",
    "\n",
    "# remove numbers\n",
    "word_bag_co_filtered = {key: value for key, value in word_bag_co.items() if IsInteger(key) == False}\n",
    "word_bag_wa_filtered = {key1: value1 for key1, value1 in word_bag_wa.items() if IsInteger(key1) == False}\n",
    "word_bag_ny_filtered = {key2: value2 for key2, value2 in word_bag_ny.items() if IsInteger(key2) == False}\n",
    "word_bag_ms_filtered = {key3: value3 for key3, value3 in word_bag_ms.items() if IsInteger(key3) == False}\n",
    "word_bag_tx_filtered = {key4: value4 for key4, value4 in word_bag_tx.items() if IsInteger(key4) == False}\n",
    "\n",
    "\n",
    "stop_words = [ \"a\", \"about\", \"above\", \"after\", \"again\", \"against\",\n",
    "              \"all\", \"am\", \"an\", \"and\", \"any\", \"are\", \"as\", \"at\",\n",
    "              \"be\", \"because\", \"been\", \"before\", \"being\", \"below\",\n",
    "              \"between\", \"both\", \"but\", \"by\", \"could\", \"did\", \"do\",\n",
    "              \"does\", \"doing\", \"down\", \"during\", \"each\", \"few\", \"for\",\n",
    "              \"from\", \"further\", \"had\", \"has\", \"have\", \"having\", \"he\",\n",
    "              \"he'd\", \"he'll\", \"he's\", \"her\", \"here\", \"here's\", \"hers\",\n",
    "              \"herself\", \"him\", \"himself\", \"his\", \"how\", \"how's\", \"i\",\n",
    "              \"i'd\", \"i'll\", \"i'm\", \"i've\", \"if\", \"in\", \"into\", \"is\",\n",
    "              \"it\", \"it's\", \"its\", \"itself\", \"let's\", \"me\", \"more\",\n",
    "              \"most\", \"my\", \"myself\", \"negro\", \"negroes\", \"nor\", \"of\", \"on\", \"once\",\n",
    "              \"only\", \"or\", \"other\", \"ought\", \"our\", \"ours\", \"ourselves\",\n",
    "              \"out\", \"over\", \"own\", \"same\", \"she\", \"she'd\", \"she'll\",\n",
    "              \"she's\", \"should\", \"so\", \"some\", \"such\", \"than\", \"that\",\n",
    "              \"that's\", \"the\", \"their\", \"theirs\", \"them\", \"themselves\",\n",
    "              \"then\", \"there\", \"there's\", \"these\", \"they\", \"they'd\",\n",
    "              \"they'll\", \"they're\", \"they've\", \"this\", \"those\", \"through\",\n",
    "              \"to\", \"too\", \"under\", \"until\", \"up\", \"very\", \"was\", \"we\",\n",
    "              \"we'd\", \"we'll\", \"we're\", \"we've\", \"were\", \"what\", \"what's\",\n",
    "              \"when\", \"when's\", \"where\", \"where's\", \"which\", \"while\", \"who\",\n",
    "              \"who's\", \"whom\", \"why\", \"why's\", \"with\", \"would\", \"you\", \"you'd\",\n",
    "              \"you'll\", \"you're\", \"you've\", \"your\", \"yours\", \"yourself\", \"yourselves\" ]"
   ]
  },
  {
   "cell_type": "code",
   "execution_count": 23,
   "metadata": {},
   "outputs": [],
   "source": [
    "word_bag_co_filtered = {key: value for key, value in word_bag_co_filtered.items() if key not in stop_words}\n",
    "word_bag_wa_filtered = {key1: value1 for key1, value1 in word_bag_wa_filtered.items() if key1 not in stop_words}\n",
    "word_bag_ny_filtered = {key2: value2 for key2, value2 in word_bag_ny_filtered.items() if key2 not in stop_words}\n",
    "word_bag_ms_filtered = {key3: value3 for key3, value3 in word_bag_ms_filtered.items() if key3 not in stop_words}\n",
    "word_bag_tx_filtered = {key4: value4 for key4, value4 in word_bag_tx_filtered.items() if key4 not in stop_words}\n",
    "\n",
    "freqs_co = pd.Series(word_bag_co_filtered)[pd.Series(word_bag_co_filtered) > 1]\n",
    "freqs_wa = pd.Series(word_bag_wa_filtered)[pd.Series(word_bag_wa_filtered) > 1]\n",
    "freqs_ny = pd.Series(word_bag_ny_filtered)[pd.Series(word_bag_ny_filtered) > 1]\n",
    "freqs_ms = pd.Series(word_bag_ms_filtered)[pd.Series(word_bag_ms_filtered) > 1]\n",
    "freqs_tx = pd.Series(word_bag_tx_filtered)[pd.Series(word_bag_tx_filtered) > 1]"
   ]
  },
  {
   "cell_type": "markdown",
   "metadata": {},
   "source": [
    "**Common Words**"
   ]
  },
  {
   "cell_type": "markdown",
   "metadata": {},
   "source": [
    "We looked at the 100 most recent headlines containing the name of each of our five states of interest and looked at the distribution of their most common words (aside from the actual state name, which was always the single most common word, so we did not include it in the visual)."
   ]
  },
  {
   "cell_type": "code",
   "execution_count": 24,
   "metadata": {},
   "outputs": [
    {
     "data": {
      "text/plain": [
       "<matplotlib.axes._subplots.AxesSubplot at 0x7fdfea8169e8>"
      ]
     },
     "execution_count": 24,
     "metadata": {},
     "output_type": "execute_result"
    },
    {
     "data": {
      "image/png": "[encoded data removed]",
      "text/plain": [
       "<Figure size 432x288 with 1 Axes>"
      ]
     },
     "metadata": {
      "needs_background": "light"
     },
     "output_type": "display_data"
    }
   ],
   "source": [
    "freqs_ny.sort_values(ascending=False)[2:17].plot.bar(\n",
    "    title=\"Most Common words in 100 NYT Headlines about New York\")"
   ]
  },
  {
   "cell_type": "code",
   "execution_count": 25,
   "metadata": {},
   "outputs": [
    {
     "data": {
      "text/plain": [
       "<matplotlib.axes._subplots.AxesSubplot at 0x7fdfea74c7b8>"
      ]
     },
     "execution_count": 25,
     "metadata": {},
     "output_type": "execute_result"
    },
    {
     "data": {
      "image/png": "[encoded data removed]",
      "text/plain": [
       "<Figure size 432x288 with 1 Axes>"
      ]
     },
     "metadata": {
      "needs_background": "light"
     },
     "output_type": "display_data"
    }
   ],
   "source": [
    "freqs_co.sort_values(ascending=False)[1:16].plot.bar(\n",
    "    title=\"Most Common words in 100 NYT Headlines about Colorado\")"
   ]
  },
  {
   "cell_type": "code",
   "execution_count": 26,
   "metadata": {},
   "outputs": [
    {
     "data": {
      "text/plain": [
       "<matplotlib.axes._subplots.AxesSubplot at 0x7fdfea6e1ac8>"
      ]
     },
     "execution_count": 26,
     "metadata": {},
     "output_type": "execute_result"
    },
    {
     "data": {
      "image/png": "[encoded data removed]",
      "text/plain": [
       "<Figure size 432x288 with 1 Axes>"
      ]
     },
     "metadata": {
      "needs_background": "light"
     },
     "output_type": "display_data"
    }
   ],
   "source": [
    "freqs_wa.sort_values(ascending=False)[1:16].plot.bar(\n",
    "    title=\"Most Common words in 100 NYT Headlines about Washington\")"
   ]
  },
  {
   "cell_type": "code",
   "execution_count": 27,
   "metadata": {},
   "outputs": [
    {
     "data": {
      "text/plain": [
       "<matplotlib.axes._subplots.AxesSubplot at 0x7fdfe4d89c50>"
      ]
     },
     "execution_count": 27,
     "metadata": {},
     "output_type": "execute_result"
    },
    {
     "data": {
      "image/png": "[encoded data removed]",
      "text/plain": [
       "<Figure size 432x288 with 1 Axes>"
      ]
     },
     "metadata": {
      "needs_background": "light"
     },
     "output_type": "display_data"
    }
   ],
   "source": [
    "freqs_ms.sort_values(ascending=False)[1:16].plot.bar(\n",
    "    title=\"Most Common words in 100 NYT Headlines about Mississippi\")"
   ]
  },
  {
   "cell_type": "code",
   "execution_count": 28,
   "metadata": {},
   "outputs": [
    {
     "data": {
      "text/plain": [
       "<matplotlib.axes._subplots.AxesSubplot at 0x7fdfe4d924a8>"
      ]
     },
     "execution_count": 28,
     "metadata": {},
     "output_type": "execute_result"
    },
    {
     "data": {
      "image/png": "[encoded data removed]",
      "text/plain": [
       "<Figure size 432x288 with 1 Axes>"
      ]
     },
     "metadata": {
      "needs_background": "light"
     },
     "output_type": "display_data"
    }
   ],
   "source": [
    "freqs_tx.sort_values(ascending=False)[1:16].plot.bar(\n",
    "    title=\"Most Common words in 100 NYT Headlines about Texas\")"
   ]
  },
  {
   "cell_type": "markdown",
   "metadata": {},
   "source": [
    "These graphs do show some differences. New York's headlines seem to feature financial terms like \"buyers\", \"market\", and \"retail\" which makes sense considering NYC is the economic center of the US. Colorado's words seem to describe a much smaller-scale state, mentioning water, river, and school. Washington, which we later realized includes headlines about Washington D.C. as well, obviously centers around politics with common words like \"preceedings\" and \"president\". Mississippi, known for being predominantly conservative, had words like \"klan\" and \"slayings\", which aren't exactly flattering. Texas, also known to be conservative, has words about its industries but that aren't necessarily positive. These trends appear to faintly support the claim that NYT writes more favorably about left-voting states."
   ]
  },
  {
   "cell_type": "markdown",
   "metadata": {},
   "source": [
    "**Generating Headlines with Markov Chains**"
   ]
  },
  {
   "cell_type": "markdown",
   "metadata": {},
   "source": [
    "To evaluate this effect in a different way, we trained Markov chains on the last 100 NYT headlines mentioning each of five US states (New York, Colorado, Washington, Mississippi, and Texas) to generate headlines that may have been written about each state. We'll see if there are any patterns in how headlines about each of these states differ for better or worse."
   ]
  },
  {
   "cell_type": "markdown",
   "metadata": {},
   "source": [
    "(**Note:** we originally used a bigram Markov Chain, but with only 100 headlines to train on, the generation of new headlines just resulted in duplicates of fully in-tact headlines, so we opted for a unigram function instead.)"
   ]
  },
  {
   "cell_type": "code",
   "execution_count": 29,
   "metadata": {},
   "outputs": [],
   "source": [
    "head_df[\"headline_raw\"] = head_df[\"headline.main\"].str.lower().replace(\n",
    "    \"[^A-Za-z\\s]\", \"\").str.replace(\";\", \"\").replace(\",\", \"\")\n",
    "\n",
    "head_df[\"head_split\"] = head_df[\"headline_raw\"].str.split(\",\").str.join(\"\")"
   ]
  },
  {
   "cell_type": "code",
   "execution_count": 30,
   "metadata": {},
   "outputs": [],
   "source": [
    "def train_markov_chain(lyrics):\n",
    "    chain = {\"<START>\": []}\n",
    "    for lyric in lyrics:\n",
    "        i = 0\n",
    "        lyric_new = lyric.split(\" \")\n",
    "        lyric_split = [word for word in lyric_new if len(word) > 0 and word != ' ']\n",
    "        chain[\"<START>\"].append(lyric_split[0])\n",
    "        for i in range(len(lyric_split)):\n",
    "            if lyric_split[i] not in chain.keys():\n",
    "                if i + 1 == len(lyric_split):\n",
    "                    chain[lyric_split[i]] = [\"<END>\"]\n",
    "                    break\n",
    "                else:\n",
    "                    chain[lyric_split[i]] = [lyric_split[i + 1]]\n",
    "            else:\n",
    "                if i == len(lyric_split) - 1:\n",
    "                    chain[lyric_split[i]] = [\"<END>\"]\n",
    "                    break\n",
    "                else:\n",
    "                    #print(i, len(lyric))\n",
    "                    chain[lyric_split[i]].append(lyric_split[i + 1])\n",
    "        \n",
    "    return chain"
   ]
  },
  {
   "cell_type": "code",
   "execution_count": 31,
   "metadata": {},
   "outputs": [],
   "source": [
    "headline_list_co = list(head_df[head_df[\"state\"] == \"Colorado\"][\"head_split\"])\n",
    "head_chain_co = train_markov_chain(headline_list_co)\n",
    "\n",
    "headline_list_wa = list(head_df[head_df[\"state\"] == \"Washington\"][\"head_split\"])\n",
    "head_chain_wa = train_markov_chain(headline_list_wa)\n",
    "\n",
    "headline_list_ny = list(head_df[head_df[\"state\"] == \"New York\"][\"head_split\"])\n",
    "head_chain_ny = train_markov_chain(headline_list_ny)\n",
    "\n",
    "headline_list_ms = list(head_df[head_df[\"state\"] == \"Mississippi\"][\"head_split\"])\n",
    "head_chain_ms = train_markov_chain(headline_list_ms)\n",
    "\n",
    "headline_list_tx = list(head_df[head_df[\"state\"] == \"Texas\"][\"head_split\"])\n",
    "head_chain_tx = train_markov_chain(headline_list_tx)"
   ]
  },
  {
   "cell_type": "code",
   "execution_count": 32,
   "metadata": {},
   "outputs": [],
   "source": [
    "import random\n",
    "\n",
    "def generate_new_headline(chain):\n",
    "    words = []\n",
    "    # generate the first word\n",
    "    words.append(random.choice(chain[\"<START>\"]))\n",
    "    word = words[0]\n",
    "    while word != '<END>':\n",
    "        new_word = random.choice(chain[word])\n",
    "        words.append(new_word)\n",
    "        if new_word == '<END>':\n",
    "            break\n",
    "        while len(chain[new_word]) == 0:\n",
    "            print(\"empty list to choose from\")\n",
    "            print(new_word)\n",
    "            new_word = random.choice(chain[new_word])\n",
    "        \n",
    "        else:\n",
    "            word = new_word\n",
    "    \n",
    "    \n",
    "    # join the words together into a string with line breaks\n",
    "    lyrics = \" \".join(words[:-1])\n",
    "    return \"\\n\".join(lyrics.split(\"<N>\"))"
   ]
  },
  {
   "cell_type": "markdown",
   "metadata": {},
   "source": [
    "**Randomly Generating 5 New Headlines for Each State**"
   ]
  },
  {
   "cell_type": "code",
   "execution_count": 33,
   "metadata": {},
   "outputs": [
    {
     "name": "stdout",
     "output_type": "stream",
     "text": [
      "5 NEW YORK HEADLINES: \n",
      "\n",
      "- fans swell jersey coffers\n",
      "- treasury statement\n",
      "- the new court league signs player is future bride affianced to new york: coward-mccann. $3.95.\n",
      "- arrival of the arrival of buyers in fence-off at yonkers ignoring city rebekah harkness foundation dance at the new york since 1962 opener\n",
      "- bank of buyers in the new york\n"
     ]
    }
   ],
   "source": [
    "\n",
    "print(\"5 NEW YORK HEADLINES: \\n\")\n",
    "for i in range(5):\n",
    "    print(\"-\", generate_new_headline(head_chain_ny))"
   ]
  },
  {
   "cell_type": "code",
   "execution_count": 38,
   "metadata": {},
   "outputs": [
    {
     "name": "stdout",
     "output_type": "stream",
     "text": [
      "5 COLORADO HEADLINES: \n",
      "\n",
      "- marriage held tuesday\n",
      "- flood spreads in colorado river water\n",
      "- soviet six on aug. 27\n",
      "- senator asks state study of colorado joins olympic bidders governor meets with agnew\n",
      "- colorado governor makes a sea of power and marielle goitschel of the carrier --el paso must leave state\n"
     ]
    }
   ],
   "source": [
    "print(\"5 COLORADO HEADLINES: \\n\")\n",
    "for i in range(5):\n",
    "    print(\"-\", generate_new_headline(head_chain_co))"
   ]
  },
  {
   "cell_type": "code",
   "execution_count": 35,
   "metadata": {},
   "outputs": [
    {
     "name": "stdout",
     "output_type": "stream",
     "text": [
      "5 WASHINGTON HEADLINES: \n",
      "\n",
      "- washington: the bureaucratic curtain\n",
      "- washington\n",
      "- washington poor to tokyo\n",
      "- washington considered for today crimson choice to return okinawa to bring washington poor to tokyo\n",
      "- the proceedings\n"
     ]
    }
   ],
   "source": [
    "print(\"5 WASHINGTON HEADLINES: \\n\")\n",
    "for i in range(5):\n",
    "    print(\"-\", generate_new_headline(head_chain_wa))"
   ]
  },
  {
   "cell_type": "code",
   "execution_count": 36,
   "metadata": {},
   "outputs": [
    {
     "name": "stdout",
     "output_type": "stream",
     "text": [
      "5 MISSISSIPPI HEADLINES: \n",
      "\n",
      "- weyerhaeuser acquires a civil rights 'invasion'\n",
      "- foot forward in mississippi accuses rival of manslaughter\n",
      "- violence in mississippi mob\n",
      "- foot forward in 3 rights slayings\n",
      "- student group denounces campus editor\n"
     ]
    }
   ],
   "source": [
    "print(\"5 MISSISSIPPI HEADLINES: \\n\")\n",
    "for i in range(5):\n",
    "    print(\"-\", generate_new_headline(head_chain_ms))"
   ]
  },
  {
   "cell_type": "code",
   "execution_count": 46,
   "metadata": {},
   "outputs": [
    {
     "name": "stdout",
     "output_type": "stream",
     "text": [
      "5 TEXAS HEADLINES: \n",
      "\n",
      "- commission lifts oil\n",
      "- filtrol is plush\n",
      "- texans and commercial building gain texas winner due in texas flood control area struck by c.b.s.\n",
      "- texas eastern to prison on sales tax\n",
      "- an explosion at texas president\n"
     ]
    }
   ],
   "source": [
    "print(\"5 TEXAS HEADLINES: \\n\")\n",
    "for i in range(5):\n",
    "    print(\"-\", generate_new_headline(head_chain_tx))"
   ]
  },
  {
   "cell_type": "markdown",
   "metadata": {},
   "source": [
    "Just by looking at these randomly generated headlines, it's hard to parse whether there are significant differences between the words used in the headlines about these five states. In the next notebook, we'll build a K-Nearest Neighbors model that will attempt to predict which state the headline was written about given the headline text."
   ]
  },
  {
   "cell_type": "code",
   "execution_count": null,
   "metadata": {},
   "outputs": [],
   "source": []
  }
 ],
 "metadata": {
  "kernelspec": {
   "display_name": "Python 3",
   "language": "python",
   "name": "python3"
  },
  "language_info": {
   "codemirror_mode": {
    "name": "ipython",
    "version": 3
   },
   "file_extension": ".py",
   "mimetype": "text/x-python",
   "name": "python",
   "nbconvert_exporter": "python",
   "pygments_lexer": "ipython3",
   "version": "3.6.8"
  }
 },
 "nbformat": 4,
 "nbformat_minor": 2
}
