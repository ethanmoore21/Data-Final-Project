{
 "cells": [
  {
   "cell_type": "markdown",
   "metadata": {},
   "source": [
    "# Data Collection and Cleaning"
   ]
  },
  {
   "cell_type": "code",
   "execution_count": 1,
   "metadata": {},
   "outputs": [],
   "source": [
    "#imports\n",
    "import requests\n",
    "import time\n",
    "import pandas as pd\n",
    "import json\n",
    "from pandas.io.json import json_normalize\n",
    "import time\n",
    "\n",
    "apikey = 'OOFXXAG7cuVc2q9C0EekCNqWm4lzERfm'"
   ]
  },
  {
   "cell_type": "markdown",
   "metadata": {},
   "source": [
    "**Getting data for January 2019 from \"archive\" endpoint:**"
   ]
  },
  {
   "cell_type": "code",
   "execution_count": 2,
   "metadata": {},
   "outputs": [],
   "source": [
    "resp = requests.get('https://api.nytimes.com/svc/archive/v1/2019/1.json?api-key=%s' %apikey)\n",
    "archive_json = resp.json()\n",
    "archive_json; #shows the full json but is very large"
   ]
  },
  {
   "cell_type": "code",
   "execution_count": 3,
   "metadata": {},
   "outputs": [
    {
     "data": {
      "text/plain": [
       "Index(['_id', 'blog', 'byline.organization', 'byline.original',\n",
       "       'byline.person', 'document_type', 'headline.content_kicker',\n",
       "       'headline.kicker', 'headline.main', 'headline.name',\n",
       "       'headline.print_headline', 'headline.seo', 'headline.sub', 'keywords',\n",
       "       'lead_paragraph', 'multimedia', 'news_desk', 'print_page', 'pub_date',\n",
       "       'score', 'section_name', 'slideshow_credits', 'snippet', 'source',\n",
       "       'subsectoinName', 'type_of_material', 'uri', 'web_url', 'word_count'],\n",
       "      dtype='object')"
      ]
     },
     "execution_count": 3,
     "metadata": {},
     "output_type": "execute_result"
    }
   ],
   "source": [
    "archive = json_normalize(archive_json['response']['docs']) #this is the highest level of the hierarchy\n",
    "archive.columns"
   ]
  },
  {
   "cell_type": "code",
   "execution_count": 4,
   "metadata": {},
   "outputs": [
    {
     "data": {
      "text/plain": [
       "0    2019-01-03\n",
       "1    2019-01-02\n",
       "2    2019-01-02\n",
       "3    2019-01-02\n",
       "4    2019-01-02\n",
       "Name: pub_date_str, dtype: object"
      ]
     },
     "execution_count": 4,
     "metadata": {},
     "output_type": "execute_result"
    }
   ],
   "source": [
    "archive[\"pub_date_str\"] = archive[\"pub_date\"].str.slice(0,10)\n",
    "archive[\"pub_date_str\"].head()"
   ]
  },
  {
   "cell_type": "code",
   "execution_count": 5,
   "metadata": {},
   "outputs": [],
   "source": [
    "archive.to_csv(\"archive.csv\")"
   ]
  },
  {
   "cell_type": "code",
   "execution_count": null,
   "metadata": {},
   "outputs": [],
   "source": []
  },
  {
   "cell_type": "markdown",
   "metadata": {},
   "source": [
    "**Getting state data with \"article search\" endpoint:**"
   ]
  },
  {
   "cell_type": "code",
   "execution_count": 6,
   "metadata": {},
   "outputs": [],
   "source": [
    "my_key = apikey"
   ]
  },
  {
   "cell_type": "code",
   "execution_count": 7,
   "metadata": {},
   "outputs": [],
   "source": [
    "co_df = pd.DataFrame()\n",
    "import time\n",
    "for i in range(1,11):\n",
    "    resp = requests.get('https://api.nytimes.com/svc/search/v2/articlesearch.json?fq=headline:(\"Colorado\")&page=%d&api-key=%s' % (i,my_key))\n",
    "    headlines=resp.json()\n",
    "    co_df = pd.concat([co_df, pd.DataFrame(json_normalize(headlines[\"response\"][\"docs\"])[\"headline.main\"])],\n",
    "                        ignore_index=True)\n",
    "    time.sleep(1.0)\n",
    "time.sleep(60)"
   ]
  },
  {
   "cell_type": "code",
   "execution_count": 8,
   "metadata": {},
   "outputs": [],
   "source": [
    "wa_df = pd.DataFrame()\n",
    "import time\n",
    "for i in range(1,11):\n",
    "    resp = requests.get('https://api.nytimes.com/svc/search/v2/articlesearch.json?fq=headline:(\"Washington\")&page=%d&api-key=%s' % (i,my_key))\n",
    "    headlines=resp.json()\n",
    "    wa_df = pd.concat([wa_df, pd.DataFrame(json_normalize(headlines[\"response\"][\"docs\"])[\"headline.main\"])],\n",
    "                        ignore_index=True)\n",
    "    time.sleep(1.0)\n",
    "time.sleep(60)"
   ]
  },
  {
   "cell_type": "code",
   "execution_count": 11,
   "metadata": {},
   "outputs": [],
   "source": [
    "ny_df = pd.DataFrame()\n",
    "import time\n",
    "for i in range(1,11):\n",
    "    resp = requests.get('https://api.nytimes.com/svc/search/v2/articlesearch.json?fq=headline:(\"New York\")&page=%d&api-key=%s' % (i,my_key))\n",
    "    headlines=resp.json()\n",
    "    ny_df = pd.concat([ny_df, pd.DataFrame(json_normalize(headlines[\"response\"][\"docs\"])[\"headline.main\"])],\n",
    "                        ignore_index=True)\n",
    "    time.sleep(1.0)\n",
    "time.sleep(60)"
   ]
  },
  {
   "cell_type": "code",
   "execution_count": 13,
   "metadata": {},
   "outputs": [],
   "source": [
    "ms_df = pd.DataFrame()\n",
    "import time\n",
    "for i in range(1,11):\n",
    "    resp = requests.get('https://api.nytimes.com/svc/search/v2/articlesearch.json?fq=headline:(\"Mississippi\")&page=%d&api-key=%s' % (i,my_key))\n",
    "    headlines=resp.json()\n",
    "    ms_df = pd.concat([ms_df, pd.DataFrame(json_normalize(headlines[\"response\"][\"docs\"])[\"headline.main\"])],\n",
    "                        ignore_index=True)\n",
    "    time.sleep(1.0)\n",
    "#time.sleep(60)"
   ]
  },
  {
   "cell_type": "code",
   "execution_count": 15,
   "metadata": {},
   "outputs": [],
   "source": [
    "tx_df = pd.DataFrame()\n",
    "import time\n",
    "for i in range(1,11):\n",
    "    resp = requests.get('https://api.nytimes.com/svc/search/v2/articlesearch.json?fq=headline:(\"Texas\")&page=%d&api-key=%s' % (i,my_key))\n",
    "    headlines=resp.json()\n",
    "    tx_df = pd.concat([tx_df, pd.DataFrame(json_normalize(headlines[\"response\"][\"docs\"])[\"headline.main\"])],\n",
    "                        ignore_index=True)\n",
    "    time.sleep(1.0)"
   ]
  },
  {
   "cell_type": "code",
   "execution_count": 16,
   "metadata": {},
   "outputs": [],
   "source": [
    "co_df[\"state\"] = \"Colorado\"\n",
    "ny_df[\"state\"] = \"New York\"\n",
    "wa_df[\"state\"] = \"Washington\"\n",
    "ms_df[\"state\"] = \"Mississippi\"\n",
    "tx_df[\"state\"] = \"Texas\"\n",
    "\n",
    "head_df = pd.concat([co_df, ny_df, wa_df, ms_df, tx_df])"
   ]
  },
  {
   "cell_type": "code",
   "execution_count": 17,
   "metadata": {},
   "outputs": [],
   "source": [
    "head_df[\"headline_raw\"] = head_df[\"headline.main\"].str.lower().replace(\"[^A-Za-z\\s]\", \"\").str.replace(\";\", \"\").replace(\",\", \"\")\n",
    "\n",
    "head_df[\"head_split\"] = head_df[\"headline_raw\"].str.split(\",\").str.join(\"\")"
   ]
  },
  {
   "cell_type": "code",
   "execution_count": 18,
   "metadata": {},
   "outputs": [],
   "source": [
    "head_df.to_csv(\"state_headlines_for_model.csv\")"
   ]
  },
  {
   "cell_type": "markdown",
   "metadata": {},
   "source": [
    "**Get election data**"
   ]
  },
  {
   "cell_type": "markdown",
   "metadata": {},
   "source": [
    "Election data from https://www.dailykos.com/stories/2016/11/25/1601042/-Nerd-Alert-This-spreadsheet-contains-every-presidential-election-by-state-from-1828-to-2016? which linked to https://docs.google.com/spreadsheets/d/1D-edaVHTnZNhVU840EPUhz3Cgd7m39Urx7HM8Pq6Pus/edit#gid=1024689221 which I downloaded to my computer and called \"Raw_Election.csv\""
   ]
  },
  {
   "cell_type": "code",
   "execution_count": 19,
   "metadata": {},
   "outputs": [],
   "source": [
    "election_df = pd.read_csv(\"Raw_Election.csv\")\n",
    "election_df = election_df.iloc[2:52, 0:3]"
   ]
  },
  {
   "cell_type": "code",
   "execution_count": 20,
   "metadata": {},
   "outputs": [],
   "source": [
    "election_df.columns = [\"State\", \"Dem%\", \"Rep%\"]\n",
    "\n",
    "election_df[\"isDem\"] = pd.to_numeric(election_df[\"Dem%\"]) > 50\n",
    "election_df.to_csv(\"election_bool.csv\")"
   ]
  }
 ],
 "metadata": {
  "kernelspec": {
   "display_name": "Python 3",
   "language": "python",
   "name": "python3"
  },
  "language_info": {
   "codemirror_mode": {
    "name": "ipython",
    "version": 3
   },
   "file_extension": ".py",
   "mimetype": "text/x-python",
   "name": "python",
   "nbconvert_exporter": "python",
   "pygments_lexer": "ipython3",
   "version": "3.6.8"
  }
 },
 "nbformat": 4,
 "nbformat_minor": 2
}
